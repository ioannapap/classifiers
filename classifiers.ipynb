{
 "cells": [
  {
   "cell_type": "code",
   "execution_count": 1,
   "metadata": {},
   "outputs": [],
   "source": [
    "import numpy as np\n",
    "import pandas as pd\n",
    "from pandas import DataFrame\n",
    "import scipy as sp\n",
    "import string\n",
    "import json\n",
    "import re\n",
    "import sklearn.metrics as metrics\n",
    "from sklearn.feature_extraction.text import CountVectorizer\n",
    "import matplotlib.pyplot as  plt\n",
    "import seaborn as sns\n",
    "import sklearn\n",
    "from sklearn.metrics import accuracy_score\n",
    "####\n",
    "from sklearn.linear_model import LogisticRegression\n",
    "from sklearn.model_selection import KFold, train_test_split\n",
    "from sklearn import linear_model\n",
    "import statsmodels.api as sm\n",
    "\n",
    "from sklearn.model_selection import cross_val_score\n",
    "from sklearn.pipeline import make_pipeline\n",
    "my_pipeline = make_pipeline(LogisticRegression())"
   ]
  },
  {
   "cell_type": "code",
   "execution_count": 2,
   "metadata": {},
   "outputs": [],
   "source": [
    "# open training dataset and parse recipes\n",
    "\n",
    "with open('train.json') as cooking_file:  \n",
    "    \n",
    "    data = json.load(cooking_file)\n",
    "    "
   ]
  },
  {
   "cell_type": "code",
   "execution_count": 3,
   "metadata": {},
   "outputs": [],
   "source": [
    "#removing punctuations and spaces before fixing the data and keep them all in a dict  (italian, mexican)\n",
    "\n",
    "punctuations = '''!()-[]{};:'\"\\,<>./?@#$%^&*_~'''\n",
    "\n",
    "def gather_recipes(recipes, cuisine_country):\n",
    "    \n",
    "    data_list = []\n",
    "    \n",
    "    for _object in recipes:\n",
    "        \n",
    "        if _object.get('cuisine') == cuisine_country:\n",
    "            \n",
    "            ingredients = _object.get('ingredients') \n",
    "            _id = _object.get('id')\n",
    "            \n",
    "            for i in ingredients:\n",
    "                \n",
    "                _dict = dict()\n",
    "                ingr = i.replace(' ', '').lower()\n",
    "                    \n",
    "                for ch in ingr: \n",
    "                    \n",
    "                    if ch in punctuations: \n",
    "                        \n",
    "                        ingr = ingr.replace(ch, '')  \n",
    "                \n",
    "                _dict['ingredients'] = ingr                \n",
    "                _dict['id'] = _id\n",
    "                data_list.append(_dict)\n",
    "                \n",
    "    return data_list\n",
    "\n",
    "clean_italian_cuisine_data = gather_recipes(data, 'italian')\n",
    "clean_mexican_cuisine_data = gather_recipes(data, 'mexican')"
   ]
  },
  {
   "cell_type": "code",
   "execution_count": 4,
   "metadata": {},
   "outputs": [],
   "source": [
    "#creating dfs  (italian, mexican)\n",
    "\n",
    "italian_df = DataFrame(clean_italian_cuisine_data)\n",
    "italian_ingredients = list(set(italian_df.ingredients))\n",
    "\n",
    "mexican_df = DataFrame(clean_mexican_cuisine_data)\n",
    "mexican_ingredients = list(set(mexican_df.ingredients))\n"
   ]
  },
  {
   "cell_type": "code",
   "execution_count": 5,
   "metadata": {},
   "outputs": [],
   "source": [
    "#fixing data for CountVectorizer (italian_df)\n",
    "\n",
    "it_unique_ids = []\n",
    "it_ingredients = []\n",
    "it_grouped = italian_df.groupby('id')\n",
    "\n",
    "for ids, ing in it_grouped:\n",
    "    \n",
    "    it_unique_ids.append(ids)\n",
    "    \n",
    "    row = str(ing)\n",
    "    row = row.replace('ingredients','')\n",
    "    row = row.replace('id', '')\n",
    "    row = row.replace('\\n', '')\n",
    "    row = re.sub('[0-9]+', '', row)\n",
    "    row = row.split( )\n",
    "    row = ' '.join(row)\n",
    "    \n",
    "    it_ingredients.append(row)\n",
    "    "
   ]
  },
  {
   "cell_type": "code",
   "execution_count": 6,
   "metadata": {},
   "outputs": [],
   "source": [
    "#fixing data for CountVectorizer (mexican_df)\n",
    "\n",
    "mex_unique_ids = []\n",
    "mex_ingredients = []\n",
    "mex_grouped = mexican_df.groupby('id')\n",
    "\n",
    "for ids, ing in mex_grouped:\n",
    "    \n",
    "    mex_unique_ids.append(ids)\n",
    "    \n",
    "    row = str(ing)\n",
    "    row = row.replace('ingredients','')\n",
    "    row = row.replace('id', '')\n",
    "    row = row.replace('\\n', '')\n",
    "    row = re.sub('[0-9]+', '', row)\n",
    "    row = row.split( )\n",
    "    row = ' '.join(row)\n",
    "    \n",
    "    mex_ingredients.append(row)\n",
    "    \n"
   ]
  },
  {
   "cell_type": "code",
   "execution_count": 7,
   "metadata": {},
   "outputs": [
    {
     "name": "stdout",
     "output_type": "stream",
     "text": [
      "       abbamele  accent  acinipepe  acornsquash  activedryyeast  adobosauce  \\\n",
      "4             0       0          0            0               0           0   \n",
      "14            0       0          0            0               0           0   \n",
      "20            0       0          0            0               0           0   \n",
      "56            0       0          0            0               0           0   \n",
      "62            0       0          0            0               0           0   \n",
      "...         ...     ...        ...          ...             ...         ...   \n",
      "49679         0       0          0            0               0           0   \n",
      "49681         0       0          0            0               0           0   \n",
      "49689         0       0          0            0               0           0   \n",
      "49697         0       0          0            0               0           0   \n",
      "49708         0       0          0            0               0           0   \n",
      "\n",
      "       adoboseasoning  agavenectar  agedbalsamicvinegar  agedgouda  ...  \\\n",
      "4                   0            0                    0          0  ...   \n",
      "14                  0            0                    0          0  ...   \n",
      "20                  0            0                    0          0  ...   \n",
      "56                  0            0                    0          0  ...   \n",
      "62                  0            0                    0          0  ...   \n",
      "...               ...          ...                  ...        ...  ...   \n",
      "49679               0            0                    0          0  ...   \n",
      "49681               0            0                    0          0  ...   \n",
      "49689               0            0                    0          0  ...   \n",
      "49697               0            0                    0          0  ...   \n",
      "49708               0            0                    0          0  ...   \n",
      "\n",
      "       yukongold  yukongoldpotatoes  zaatar  zest  zestyitaliandressing  \\\n",
      "4              0                  0       0     0                     0   \n",
      "14             0                  0       0     0                     0   \n",
      "20             0                  0       0     0                     0   \n",
      "56             0                  0       0     0                     0   \n",
      "62             0                  0       0     0                     0   \n",
      "...          ...                ...     ...   ...                   ...   \n",
      "49679          0                  0       0     0                     0   \n",
      "49681          0                  0       0     0                     0   \n",
      "49689          0                  0       0     0                     0   \n",
      "49697          0                  0       0     0                     0   \n",
      "49708          0                  0       0     0                     0   \n",
      "\n",
      "       zinfandel  ziti  zucchini  zucchiniblossoms  Cuisine  \n",
      "4              0     0         0                 0        0  \n",
      "14             0     0         0                 0        0  \n",
      "20             0     0         0                 0        0  \n",
      "56             0     0         0                 0        0  \n",
      "62             0     0         0                 0        0  \n",
      "...          ...   ...       ...               ...      ...  \n",
      "49679          0     0         0                 0        0  \n",
      "49681          0     0         0                 0        0  \n",
      "49689          0     0         0                 0        0  \n",
      "49697          0     0         0                 0        0  \n",
      "49708          0     0         0                 0        0  \n",
      "\n",
      "[7838 rows x 2925 columns]\n",
      "       achiote  achiotepaste  achiotepowder  acornsquash  activedryyeast  \\\n",
      "1            0             0              0            0               0   \n",
      "15           0             0              0            0               0   \n",
      "19           0             0              0            0               0   \n",
      "22           0             0              0            0               0   \n",
      "25           0             0              0            0               0   \n",
      "...        ...           ...            ...          ...             ...   \n",
      "49678        0             0              0            0               0   \n",
      "49687        0             0              0            0               0   \n",
      "49707        0             0              0            0               0   \n",
      "49709        0             0              0            0               0   \n",
      "49717        0             0              0            0               0   \n",
      "\n",
      "       adobo  adoboallpurposeseasoning  adobosauce  adoboseasoning  \\\n",
      "1          0                         0           0               0   \n",
      "15         0                         0           0               0   \n",
      "19         0                         0           0               0   \n",
      "22         0                         0           0               0   \n",
      "25         0                         0           0               0   \n",
      "...      ...                       ...         ...             ...   \n",
      "49678      0                         0           0               0   \n",
      "49687      0                         0           0               0   \n",
      "49707      0                         0           0               0   \n",
      "49709      0                         0           0               0   \n",
      "49717      0                         0           1               0   \n",
      "\n",
      "       agavenectar  ...  yolk  yuca  yukongold  yukongoldpotatoes  zaatar  \\\n",
      "1                0  ...     0     0          0                  0       0   \n",
      "15               0  ...     0     0          0                  0       0   \n",
      "19               0  ...     0     0          0                  0       0   \n",
      "22               0  ...     0     0          0                  0       0   \n",
      "25               0  ...     0     0          0                  0       0   \n",
      "...            ...  ...   ...   ...        ...                ...     ...   \n",
      "49678            0  ...     0     0          0                  0       0   \n",
      "49687            0  ...     0     0          0                  0       0   \n",
      "49707            0  ...     0     0          0                  0       0   \n",
      "49709            0  ...     0     0          0                  0       0   \n",
      "49717            0  ...     0     0          0                  0       0   \n",
      "\n",
      "       zest  zestyitaliandressing  zucchini  zucchiniblossoms  Cuisine  \n",
      "1         0                     0         0                 0        1  \n",
      "15        0                     0         0                 0        1  \n",
      "19        0                     0         0                 0        1  \n",
      "22        0                     0         0                 0        1  \n",
      "25        0                     0         0                 0        1  \n",
      "...     ...                   ...       ...               ...      ...  \n",
      "49678     0                     0         0                 0        1  \n",
      "49687     0                     0         0                 0        1  \n",
      "49707     0                     0         0                 0        1  \n",
      "49709     0                     0         0                 0        1  \n",
      "49717     0                     0         0                 0        1  \n",
      "\n",
      "[6438 rows x 2681 columns]\n"
     ]
    }
   ],
   "source": [
    "#using CountVectorizer  (italian, mexican)\n",
    "\n",
    "it_vectorizer = CountVectorizer(analyzer = 'word', binary = True)\n",
    "it_array = it_vectorizer.fit_transform(it_ingredients)\n",
    "it_array = it_array.toarray()\n",
    "\n",
    "it_df = DataFrame(it_array, columns = it_vectorizer.get_feature_names(), index = it_unique_ids)\n",
    "it_df['Cuisine'] = 0 #italian\n",
    "it_df.to_csv('it_cleandata.csv', index_label = 'ID')\n",
    "print(it_df)\n",
    "mex_vectorizer = CountVectorizer(analyzer = 'word', binary = True)\n",
    "mex_array = mex_vectorizer.fit_transform(mex_ingredients)\n",
    "mex_array = mex_array.toarray()\n",
    "\n",
    "mex_df = DataFrame(mex_array, columns = mex_vectorizer.get_feature_names(), index = mex_unique_ids)\n",
    "mex_df['Cuisine'] = 1 #mexican\n",
    "mex_df.to_csv('mex_cleandata.csv', index_label = 'ID')\n",
    "print(mex_df)"
   ]
  },
  {
   "cell_type": "code",
   "execution_count": 8,
   "metadata": {},
   "outputs": [
    {
     "name": "stdout",
     "output_type": "stream",
     "text": [
      "4        0\n",
      "14       0\n",
      "20       0\n",
      "56       0\n",
      "62       0\n",
      "        ..\n",
      "49678    1\n",
      "49687    1\n",
      "49707    1\n",
      "49709    1\n",
      "49717    1\n",
      "Name: Cuisine, Length: 14276, dtype: int64\n"
     ]
    }
   ],
   "source": [
    "#putting mexican and italian in one DataFrame\n",
    "\n",
    "df = pd.DataFrame(it_df)\n",
    "df = df.append(mex_df, sort = False)\n",
    "df.fillna(0, inplace = True)\n",
    "df = df.astype('int64')\n",
    "print(df['Cuisine'])"
   ]
  },
  {
   "cell_type": "code",
   "execution_count": 9,
   "metadata": {},
   "outputs": [],
   "source": [
    "#not needed\n",
    "#making a dictionary to keep recipe ids with the cuisine that they belong\n",
    "\n",
    "dict_ = {}\n",
    "count = 0\n",
    "\n",
    "for id_ in df.iterrows():\n",
    "    \n",
    "    if count < 7838:\n",
    "        \n",
    "        dict_[id_[0]] = 'italian'\n",
    "    \n",
    "    \n",
    "    else:\n",
    "\n",
    "        dict_[id_[0]] = 'mexican'\n",
    "        \n",
    "    count += 1   \n",
    "                \n",
    "#print(dict_)"
   ]
  },
  {
   "cell_type": "code",
   "execution_count": 10,
   "metadata": {},
   "outputs": [
    {
     "name": "stdout",
     "output_type": "stream",
     "text": [
      "[[0 0 0 ... 0 0 0]\n",
      " [0 0 0 ... 0 0 0]\n",
      " [0 0 0 ... 0 0 0]\n",
      " ...\n",
      " [0 0 0 ... 0 0 0]\n",
      " [0 0 0 ... 0 0 0]\n",
      " [0 0 0 ... 0 0 0]]\n"
     ]
    }
   ],
   "source": [
    "X = df.values  #all columns with values AFAIRESE TO CUISINE\n",
    "print(X)\n",
    "\n",
    "Y = df['Cuisine'] #just the ids in a list\n",
    "#print(Y)"
   ]
  },
  {
   "cell_type": "code",
   "execution_count": 11,
   "metadata": {},
   "outputs": [],
   "source": [
    "#kf = KFold(n_splits = 5)\n",
    "#kf.get_n_splits(X) # returns the number of splitting iterations in the cross-validator\n",
    "\n",
    "#for train_index, test_index in kf.split(X):\n",
    "    \n",
    "    #print('TRAIN:', train_index, 'TEST:', test_index)\n",
    "    #X_train, X_test = X[train_index], X[test_index]\n",
    "    #Y_train, Y_test = Y[train_index], Y[test_index]"
   ]
  },
  {
   "cell_type": "code",
   "execution_count": 12,
   "metadata": {},
   "outputs": [],
   "source": [
    "#scores = cross_val_score(my_pipeline, X, Y, scoring='neg_mean_absolute_error')\n",
    "#print(scores)"
   ]
  },
  {
   "cell_type": "code",
   "execution_count": 13,
   "metadata": {},
   "outputs": [],
   "source": [
    "#print('Mean Absolute Error %2f' %(-1 * scores.mean()))"
   ]
  },
  {
   "cell_type": "code",
   "execution_count": 14,
   "metadata": {},
   "outputs": [],
   "source": [
    "X_train, X_test, Y_train, Y_test = train_test_split(X, Y, test_size=0.25)"
   ]
  },
  {
   "cell_type": "code",
   "execution_count": 15,
   "metadata": {},
   "outputs": [],
   "source": [
    "#print(Y_test.shape)\n",
    "#print(len(X_test))"
   ]
  },
  {
   "cell_type": "code",
   "execution_count": 16,
   "metadata": {},
   "outputs": [],
   "source": [
    "# fit a model\n",
    "lm = linear_model.LinearRegression()\n",
    "model = lm.fit(X_train, Y_train)\n",
    "predictions = lm.predict(X_test)"
   ]
  },
  {
   "cell_type": "code",
   "execution_count": 17,
   "metadata": {},
   "outputs": [
    {
     "data": {
      "text/plain": [
       "array([-3.51151400e-15,  1.00000000e+00,  1.00000000e+00, ...,\n",
       "        1.00000000e+00,  4.92661467e-16,  1.00000000e+00])"
      ]
     },
     "execution_count": 17,
     "metadata": {},
     "output_type": "execute_result"
    }
   ],
   "source": [
    "predictions[:]"
   ]
  },
  {
   "cell_type": "code",
   "execution_count": null,
   "metadata": {},
   "outputs": [],
   "source": []
  }
 ],
 "metadata": {
  "kernelspec": {
   "display_name": "Python 3",
   "language": "python",
   "name": "python3"
  },
  "language_info": {
   "codemirror_mode": {
    "name": "ipython",
    "version": 3
   },
   "file_extension": ".py",
   "mimetype": "text/x-python",
   "name": "python",
   "nbconvert_exporter": "python",
   "pygments_lexer": "ipython3",
   "version": "3.7.4"
  }
 },
 "nbformat": 4,
 "nbformat_minor": 2
}
