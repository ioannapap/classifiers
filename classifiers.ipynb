{
 "cells": [
  {
   "cell_type": "code",
   "execution_count": 15,
   "metadata": {},
   "outputs": [],
   "source": [
    "import numpy as np\n",
    "import pandas as pd\n",
    "from pandas import DataFrame\n",
    "import scipy as sp\n",
    "import string\n",
    "import json\n",
    "import re\n",
    "import sklearn.metrics as metrics\n",
    "from sklearn.feature_extraction.text import CountVectorizer\n",
    "import matplotlib.pyplot as  plt\n",
    "import seaborn as sns\n",
    "import sklearn\n",
    "from sklearn.metrics import accuracy_score\n",
    "####\n",
    "\n",
    "from sklearn.model_selection import train_test_split\n",
    "from sklearn import linear_model\n",
    "import statsmodels.api as sm\n",
    "\n",
    "from sklearn.linear_model import LogisticRegression\n",
    "import sklearn.linear_model as linear_model\n",
    "import sklearn.model_selection as model_selection\n",
    "\n",
    "from sklearn import svm"
   ]
  },
  {
   "cell_type": "code",
   "execution_count": 2,
   "metadata": {},
   "outputs": [],
   "source": [
    "# open training dataset and parse recipes\n",
    "\n",
    "with open('train.json') as cooking_file:  \n",
    "    \n",
    "    data = json.load(cooking_file)\n",
    "    "
   ]
  },
  {
   "cell_type": "code",
   "execution_count": 3,
   "metadata": {},
   "outputs": [],
   "source": [
    "#removing punctuations and spaces before fixing the data and keep them all in a dict  (italian, mexican)\n",
    "\n",
    "punctuations = '''!()-[]{};:'\"\\,<>./?@#$%^&*_~'''\n",
    "\n",
    "def gather_recipes(recipes, cuisine_country):\n",
    "    \n",
    "    data_list = []\n",
    "    \n",
    "    for _object in recipes:\n",
    "        \n",
    "        if _object.get('cuisine') == cuisine_country:\n",
    "            \n",
    "            ingredients = _object.get('ingredients') \n",
    "            _id = _object.get('id')\n",
    "            \n",
    "            for i in ingredients:\n",
    "                \n",
    "                _dict = dict()\n",
    "                ingr = i.replace(' ', '').lower()\n",
    "                    \n",
    "                for ch in ingr: \n",
    "                    \n",
    "                    if ch in punctuations: \n",
    "                        \n",
    "                        ingr = ingr.replace(ch, '')  \n",
    "                \n",
    "                _dict['ingredients'] = ingr                \n",
    "                _dict['id'] = _id\n",
    "                data_list.append(_dict)\n",
    "                \n",
    "    return data_list\n",
    "\n",
    "clean_italian_cuisine_data = gather_recipes(data, 'italian')\n",
    "clean_mexican_cuisine_data = gather_recipes(data, 'mexican')"
   ]
  },
  {
   "cell_type": "code",
   "execution_count": 4,
   "metadata": {},
   "outputs": [],
   "source": [
    "#creating dfs  (italian, mexican)\n",
    "\n",
    "italian_df = DataFrame(clean_italian_cuisine_data)\n",
    "italian_ingredients = list(set(italian_df.ingredients))\n",
    "\n",
    "mexican_df = DataFrame(clean_mexican_cuisine_data)\n",
    "mexican_ingredients = list(set(mexican_df.ingredients))\n"
   ]
  },
  {
   "cell_type": "code",
   "execution_count": 5,
   "metadata": {},
   "outputs": [],
   "source": [
    "#fixing data for CountVectorizer (italian_df)\n",
    "\n",
    "it_unique_ids = []\n",
    "it_ingredients = []\n",
    "it_grouped = italian_df.groupby('id')\n",
    "\n",
    "for ids, ing in it_grouped:\n",
    "    \n",
    "    it_unique_ids.append(ids)\n",
    "    \n",
    "    row = str(ing)\n",
    "    row = row.replace('ingredients','')\n",
    "    row = row.replace('id', '')\n",
    "    row = row.replace('\\n', '')\n",
    "    row = re.sub('[0-9]+', '', row)\n",
    "    row = row.split( )\n",
    "    row = ' '.join(row)\n",
    "    \n",
    "    it_ingredients.append(row)\n",
    "    "
   ]
  },
  {
   "cell_type": "code",
   "execution_count": 6,
   "metadata": {},
   "outputs": [],
   "source": [
    "#fixing data for CountVectorizer (mexican_df)\n",
    "\n",
    "mex_unique_ids = []\n",
    "mex_ingredients = []\n",
    "mex_grouped = mexican_df.groupby('id')\n",
    "\n",
    "for ids, ing in mex_grouped:\n",
    "    \n",
    "    mex_unique_ids.append(ids)\n",
    "    \n",
    "    row = str(ing)\n",
    "    row = row.replace('ingredients','')\n",
    "    row = row.replace('id', '')\n",
    "    row = row.replace('\\n', '')\n",
    "    row = re.sub('[0-9]+', '', row)\n",
    "    row = row.split( )\n",
    "    row = ' '.join(row)\n",
    "    \n",
    "    mex_ingredients.append(row)\n",
    "    \n"
   ]
  },
  {
   "cell_type": "code",
   "execution_count": 7,
   "metadata": {},
   "outputs": [
    {
     "name": "stdout",
     "output_type": "stream",
     "text": [
      "       abbamele  accent  acinipepe  acornsquash  activedryyeast  adobosauce  \\\n",
      "4             0       0          0            0               0           0   \n",
      "14            0       0          0            0               0           0   \n",
      "20            0       0          0            0               0           0   \n",
      "56            0       0          0            0               0           0   \n",
      "62            0       0          0            0               0           0   \n",
      "...         ...     ...        ...          ...             ...         ...   \n",
      "49679         0       0          0            0               0           0   \n",
      "49681         0       0          0            0               0           0   \n",
      "49689         0       0          0            0               0           0   \n",
      "49697         0       0          0            0               0           0   \n",
      "49708         0       0          0            0               0           0   \n",
      "\n",
      "       adoboseasoning  agavenectar  agedbalsamicvinegar  agedgouda  ...  \\\n",
      "4                   0            0                    0          0  ...   \n",
      "14                  0            0                    0          0  ...   \n",
      "20                  0            0                    0          0  ...   \n",
      "56                  0            0                    0          0  ...   \n",
      "62                  0            0                    0          0  ...   \n",
      "...               ...          ...                  ...        ...  ...   \n",
      "49679               0            0                    0          0  ...   \n",
      "49681               0            0                    0          0  ...   \n",
      "49689               0            0                    0          0  ...   \n",
      "49697               0            0                    0          0  ...   \n",
      "49708               0            0                    0          0  ...   \n",
      "\n",
      "       yukongold  yukongoldpotatoes  zaatar  zest  zestyitaliandressing  \\\n",
      "4              0                  0       0     0                     0   \n",
      "14             0                  0       0     0                     0   \n",
      "20             0                  0       0     0                     0   \n",
      "56             0                  0       0     0                     0   \n",
      "62             0                  0       0     0                     0   \n",
      "...          ...                ...     ...   ...                   ...   \n",
      "49679          0                  0       0     0                     0   \n",
      "49681          0                  0       0     0                     0   \n",
      "49689          0                  0       0     0                     0   \n",
      "49697          0                  0       0     0                     0   \n",
      "49708          0                  0       0     0                     0   \n",
      "\n",
      "       zinfandel  ziti  zucchini  zucchiniblossoms  Cuisine  \n",
      "4              0     0         0                 0        0  \n",
      "14             0     0         0                 0        0  \n",
      "20             0     0         0                 0        0  \n",
      "56             0     0         0                 0        0  \n",
      "62             0     0         0                 0        0  \n",
      "...          ...   ...       ...               ...      ...  \n",
      "49679          0     0         0                 0        0  \n",
      "49681          0     0         0                 0        0  \n",
      "49689          0     0         0                 0        0  \n",
      "49697          0     0         0                 0        0  \n",
      "49708          0     0         0                 0        0  \n",
      "\n",
      "[7838 rows x 2925 columns]\n",
      "       achiote  achiotepaste  achiotepowder  acornsquash  activedryyeast  \\\n",
      "1            0             0              0            0               0   \n",
      "15           0             0              0            0               0   \n",
      "19           0             0              0            0               0   \n",
      "22           0             0              0            0               0   \n",
      "25           0             0              0            0               0   \n",
      "...        ...           ...            ...          ...             ...   \n",
      "49678        0             0              0            0               0   \n",
      "49687        0             0              0            0               0   \n",
      "49707        0             0              0            0               0   \n",
      "49709        0             0              0            0               0   \n",
      "49717        0             0              0            0               0   \n",
      "\n",
      "       adobo  adoboallpurposeseasoning  adobosauce  adoboseasoning  \\\n",
      "1          0                         0           0               0   \n",
      "15         0                         0           0               0   \n",
      "19         0                         0           0               0   \n",
      "22         0                         0           0               0   \n",
      "25         0                         0           0               0   \n",
      "...      ...                       ...         ...             ...   \n",
      "49678      0                         0           0               0   \n",
      "49687      0                         0           0               0   \n",
      "49707      0                         0           0               0   \n",
      "49709      0                         0           0               0   \n",
      "49717      0                         0           1               0   \n",
      "\n",
      "       agavenectar  ...  yolk  yuca  yukongold  yukongoldpotatoes  zaatar  \\\n",
      "1                0  ...     0     0          0                  0       0   \n",
      "15               0  ...     0     0          0                  0       0   \n",
      "19               0  ...     0     0          0                  0       0   \n",
      "22               0  ...     0     0          0                  0       0   \n",
      "25               0  ...     0     0          0                  0       0   \n",
      "...            ...  ...   ...   ...        ...                ...     ...   \n",
      "49678            0  ...     0     0          0                  0       0   \n",
      "49687            0  ...     0     0          0                  0       0   \n",
      "49707            0  ...     0     0          0                  0       0   \n",
      "49709            0  ...     0     0          0                  0       0   \n",
      "49717            0  ...     0     0          0                  0       0   \n",
      "\n",
      "       zest  zestyitaliandressing  zucchini  zucchiniblossoms  Cuisine  \n",
      "1         0                     0         0                 0        1  \n",
      "15        0                     0         0                 0        1  \n",
      "19        0                     0         0                 0        1  \n",
      "22        0                     0         0                 0        1  \n",
      "25        0                     0         0                 0        1  \n",
      "...     ...                   ...       ...               ...      ...  \n",
      "49678     0                     0         0                 0        1  \n",
      "49687     0                     0         0                 0        1  \n",
      "49707     0                     0         0                 0        1  \n",
      "49709     0                     0         0                 0        1  \n",
      "49717     0                     0         0                 0        1  \n",
      "\n",
      "[6438 rows x 2681 columns]\n"
     ]
    }
   ],
   "source": [
    "#using CountVectorizer  (italian, mexican) and adding one column Cuisine\n",
    "\n",
    "it_vectorizer = CountVectorizer(analyzer = 'word', binary = True)\n",
    "it_array = it_vectorizer.fit_transform(it_ingredients)\n",
    "it_array = it_array.toarray()\n",
    "\n",
    "it_df = DataFrame(it_array, columns = it_vectorizer.get_feature_names(), index = it_unique_ids)\n",
    "it_df['Cuisine'] = 0 #italian\n",
    "it_df.to_csv('it_cleandata.csv', index_label = 'ID')\n",
    "print(it_df)\n",
    "\n",
    "mex_vectorizer = CountVectorizer(analyzer = 'word', binary = True)\n",
    "mex_array = mex_vectorizer.fit_transform(mex_ingredients)\n",
    "mex_array = mex_array.toarray()\n",
    "\n",
    "mex_df = DataFrame(mex_array, columns = mex_vectorizer.get_feature_names(), index = mex_unique_ids)\n",
    "mex_df['Cuisine'] = 1 #mexican\n",
    "mex_df.to_csv('mex_cleandata.csv', index_label = 'ID')\n",
    "print(mex_df)"
   ]
  },
  {
   "cell_type": "code",
   "execution_count": 8,
   "metadata": {},
   "outputs": [
    {
     "name": "stdout",
     "output_type": "stream",
     "text": [
      "4        0\n",
      "14       0\n",
      "20       0\n",
      "56       0\n",
      "62       0\n",
      "        ..\n",
      "49678    1\n",
      "49687    1\n",
      "49707    1\n",
      "49709    1\n",
      "49717    1\n",
      "Name: Cuisine, Length: 14276, dtype: int64\n"
     ]
    }
   ],
   "source": [
    "#putting mexican and italian in one DataFrame\n",
    "\n",
    "df = pd.DataFrame(it_df)\n",
    "df = df.append(mex_df, sort = False)\n",
    "df.fillna(0, inplace = True)\n",
    "df = df.astype('int64')\n",
    "print(df['Cuisine'])"
   ]
  },
  {
   "cell_type": "code",
   "execution_count": 9,
   "metadata": {},
   "outputs": [
    {
     "name": "stdout",
     "output_type": "stream",
     "text": [
      "[[0 0 0 ... 0 0 0]\n",
      " [0 0 0 ... 0 0 0]\n",
      " [0 0 0 ... 0 0 0]\n",
      " ...\n",
      " [0 0 0 ... 0 0 0]\n",
      " [0 0 0 ... 0 0 0]\n",
      " [0 0 0 ... 0 0 0]]\n",
      "(14276, 3976)\n"
     ]
    }
   ],
   "source": [
    "X = df.loc[:, df.columns != 'Cuisine'].values  #all columns with values except Cuisine column\n",
    "print(X)\n",
    "print(X.shape)\n",
    "\n",
    "Y = df['Cuisine'] #just the ids in a list\n",
    "#print(Y)"
   ]
  },
  {
   "cell_type": "code",
   "execution_count": 10,
   "metadata": {},
   "outputs": [
    {
     "name": "stdout",
     "output_type": "stream",
     "text": [
      "10707\n"
     ]
    }
   ],
   "source": [
    "X_train, X_test, Y_train, Y_test = train_test_split(X, Y, test_size = 0.25, random_state = 0)"
   ]
  },
  {
   "cell_type": "code",
   "execution_count": 11,
   "metadata": {},
   "outputs": [],
   "source": [
    "# fit a model\n",
    "lr_m = linear_model.LogisticRegression()\n",
    "model = lr_m.fit(X_train, Y_train)\n"
   ]
  },
  {
   "cell_type": "code",
   "execution_count": 12,
   "metadata": {},
   "outputs": [
    {
     "name": "stdout",
     "output_type": "stream",
     "text": [
      "classifier score: 0.9686186606892687\n",
      "\n",
      "accuracy: 0.9686186606892687\n",
      "\n",
      "Confusion matrix:\n",
      "[[1887   40]\n",
      " [  72 1570]]\n",
      "\n",
      "Precision Score per class:\n",
      "[0.96324655 0.97515528]\n",
      "\n",
      "Average Precision Score:\n",
      "0.9687254354733641\n",
      "\n",
      "Recall Score per class:\n",
      "[0.97924235 0.95615104]\n",
      "\n",
      "Average Recall Score:\n",
      "0.9686186606892687\n",
      "\n",
      "F1-score Score per class:\n",
      "[0.97117859 0.96555966]\n",
      "\n",
      "Average F1 Score:\n",
      "0.9685934707348253\n"
     ]
    }
   ],
   "source": [
    "print(\"classifier score:\",lr_m.score(X_test, Y_test))\n",
    "Y_pred = lr_m.predict(X_test)\n",
    "print(\"\\naccuracy:\",metrics.accuracy_score(Y_test, Y_pred))\n",
    "print(\"\\nConfusion matrix:\")\n",
    "print(metrics.confusion_matrix(Y_test, Y_pred))\n",
    "print(\"\\nPrecision Score per class:\")\n",
    "print(metrics.precision_score(Y_test, Y_pred, average = None))\n",
    "print(\"\\nAverage Precision Score:\")\n",
    "print(metrics.precision_score(Y_test, Y_pred, average = 'weighted'))\n",
    "print(\"\\nRecall Score per class:\")\n",
    "print(metrics.recall_score(Y_test, Y_pred, average = None))\n",
    "print(\"\\nAverage Recall Score:\")\n",
    "print(metrics.recall_score(Y_test, Y_pred, average = 'weighted'))\n",
    "print(\"\\nF1-score Score per class:\")\n",
    "print(metrics.f1_score(Y_test, Y_pred, average = None))\n",
    "print(\"\\nAverage F1 Score:\")\n",
    "print(metrics.f1_score(Y_test, Y_pred, average = 'weighted'))"
   ]
  },
  {
   "cell_type": "code",
   "execution_count": 13,
   "metadata": {},
   "outputs": [
    {
     "name": "stdout",
     "output_type": "stream",
     "text": [
      "scores: [0.96809087 0.97195581 0.96879183 0.96668815 0.96880957]\n",
      "mean scores: 0.9688672451742961\n"
     ]
    }
   ],
   "source": [
    "scores = model_selection.cross_val_score(lr_m, X, Y, scoring = 'f1_weighted', cv = 5)\n",
    "print('scores:', scores)\n",
    "print('mean scores:', scores.mean())"
   ]
  },
  {
   "cell_type": "code",
   "execution_count": 14,
   "metadata": {},
   "outputs": [],
   "source": [
    "#scores = model_selection.cross_val_score(#lr_clf,\n",
    "                                          #svm_clf,\n",
    "                                          #knn,\n",
    "                                          #dtree,\n",
    "                                          #X,\n",
    "                                          #Y,\n",
    "                                          #scoring='f1_weighted',\n",
    "                                          #cv=5)\n",
    "#print (scores)\n",
    "#print (scores.mean())"
   ]
  },
  {
   "cell_type": "code",
   "execution_count": null,
   "metadata": {},
   "outputs": [],
   "source": [
    "#svm_clf = svm.LinearSVC()\n",
    "#svm_clf = svm.SVC(kernel = 'poly')\n",
    "svm_clf = svm.SVC()\n",
    "svm_clf.fit(X_train,Y_train)\n",
    "print(\"classifier score:\",svm_clf.score(X_test, Y_test))\n",
    "Y_pred = svm_clf.predict(X_test)\n",
    "print(\"\\naccuracy:\",metrics.accuracy_score(y_test, Y_pred))\n",
    "print(\"\\nConfusion matrix:\")\n",
    "print(metrics.confusion_matrix(y_test, Y_pred))\n",
    "print(\"\\nPrecision Score per class:\")\n",
    "print(metrics.precision_score(Y_test, Y_pred, average = None))\n",
    "print(\"\\nAverage Precision Score:\")\n",
    "print(metrics.precision_score(Y_test, Y_pred, average = 'weighted'))\n",
    "print(\"\\nRecall Score per class:\")\n",
    "print(metrics.recall_score(Y_test, Y_pred, average= None))\n",
    "print(\"\\nAverage Recall Score:\")\n",
    "print(metrics.recall_score(Y_test, Y_pred, average = 'weighted'))\n",
    "print(\"\\nF1-score Score per class:\")\n",
    "print(metrics.f1_score(Y_test, Y_pred, average = None))\n",
    "print(\"\\nAverage F1 Score:\")\n",
    "print(metrics.f1_score(Y_test, Y_pred, average = 'weighted'))"
   ]
  }
 ],
 "metadata": {
  "kernelspec": {
   "display_name": "Python 3",
   "language": "python",
   "name": "python3"
  },
  "language_info": {
   "codemirror_mode": {
    "name": "ipython",
    "version": 3
   },
   "file_extension": ".py",
   "mimetype": "text/x-python",
   "name": "python",
   "nbconvert_exporter": "python",
   "pygments_lexer": "ipython3",
   "version": "3.7.4"
  }
 },
 "nbformat": 4,
 "nbformat_minor": 2
}
