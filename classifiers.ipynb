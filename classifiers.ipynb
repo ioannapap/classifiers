{
 "cells": [
  {
   "cell_type": "code",
   "execution_count": 20,
   "metadata": {},
   "outputs": [],
   "source": [
    "import numpy as np\n",
    "import pandas as pd\n",
    "from pandas import DataFrame\n",
    "import scipy as sp\n",
    "import string\n",
    "import json\n",
    "import re\n",
    "import sklearn.metrics as metrics\n",
    "from sklearn.feature_extraction.text import CountVectorizer\n",
    "import matplotlib.pyplot as  plt\n",
    "import seaborn as sns\n",
    "import sklearn\n",
    "from sklearn.metrics import accuracy_score\n",
    "####\n",
    "\n",
    "from sklearn.model_selection import train_test_split\n",
    "from sklearn import linear_model\n",
    "import statsmodels.api as sm\n",
    "\n",
    "from sklearn.linear_model import LogisticRegression\n",
    "import sklearn.linear_model as linear_model\n",
    "import sklearn.model_selection as model_selection\n",
    "\n",
    "from sklearn import svm\n",
    "from sklearn import tree\n",
    "from sklearn.neighbors import KNeighborsClassifier"
   ]
  },
  {
   "cell_type": "code",
   "execution_count": 2,
   "metadata": {},
   "outputs": [],
   "source": [
    "# open training dataset and parse recipes\n",
    "\n",
    "with open('train.json') as cooking_file:  \n",
    "    \n",
    "    data = json.load(cooking_file)\n",
    "    "
   ]
  },
  {
   "cell_type": "code",
   "execution_count": 3,
   "metadata": {},
   "outputs": [],
   "source": [
    "#removing punctuations and spaces before fixing the data and keep them all in a dict  (italian, mexican)\n",
    "\n",
    "punctuations = '''!()-[]{};:'\"\\,<>./?@#$%^&*_~'''\n",
    "\n",
    "def gather_recipes(recipes, cuisine_country):\n",
    "    \n",
    "    data_list = []\n",
    "    \n",
    "    for _object in recipes:\n",
    "        \n",
    "        if _object.get('cuisine') == cuisine_country:\n",
    "            \n",
    "            ingredients = _object.get('ingredients') \n",
    "            _id = _object.get('id')\n",
    "            \n",
    "            for i in ingredients:\n",
    "                \n",
    "                _dict = dict()\n",
    "                ingr = i.replace(' ', '').lower()\n",
    "                    \n",
    "                for ch in ingr: \n",
    "                    \n",
    "                    if ch in punctuations: \n",
    "                        \n",
    "                        ingr = ingr.replace(ch, '')  \n",
    "                \n",
    "                _dict['ingredients'] = ingr                \n",
    "                _dict['id'] = _id\n",
    "                data_list.append(_dict)\n",
    "                \n",
    "    return data_list\n",
    "\n",
    "clean_italian_cuisine_data = gather_recipes(data, 'italian')\n",
    "clean_mexican_cuisine_data = gather_recipes(data, 'mexican')"
   ]
  },
  {
   "cell_type": "code",
   "execution_count": 4,
   "metadata": {},
   "outputs": [],
   "source": [
    "#creating dfs  (italian, mexican)\n",
    "\n",
    "italian_df = DataFrame(clean_italian_cuisine_data)\n",
    "italian_ingredients = list(set(italian_df.ingredients))\n",
    "\n",
    "mexican_df = DataFrame(clean_mexican_cuisine_data)\n",
    "mexican_ingredients = list(set(mexican_df.ingredients))\n"
   ]
  },
  {
   "cell_type": "code",
   "execution_count": 5,
   "metadata": {},
   "outputs": [],
   "source": [
    "#fixing data for CountVectorizer (italian_df)\n",
    "\n",
    "it_unique_ids = []\n",
    "it_ingredients = []\n",
    "it_grouped = italian_df.groupby('id')\n",
    "\n",
    "for ids, ing in it_grouped:\n",
    "    \n",
    "    it_unique_ids.append(ids)\n",
    "    \n",
    "    row = str(ing)\n",
    "    row = row.replace('ingredients','')\n",
    "    row = row.replace('id', '')\n",
    "    row = row.replace('\\n', '')\n",
    "    row = re.sub('[0-9]+', '', row)\n",
    "    row = row.split( )\n",
    "    row = ' '.join(row)\n",
    "    \n",
    "    it_ingredients.append(row)\n",
    "    "
   ]
  },
  {
   "cell_type": "code",
   "execution_count": 6,
   "metadata": {},
   "outputs": [],
   "source": [
    "#fixing data for CountVectorizer (mexican_df)\n",
    "\n",
    "mex_unique_ids = []\n",
    "mex_ingredients = []\n",
    "mex_grouped = mexican_df.groupby('id')\n",
    "\n",
    "for ids, ing in mex_grouped:\n",
    "    \n",
    "    mex_unique_ids.append(ids)\n",
    "    \n",
    "    row = str(ing)\n",
    "    row = row.replace('ingredients','')\n",
    "    row = row.replace('id', '')\n",
    "    row = row.replace('\\n', '')\n",
    "    row = re.sub('[0-9]+', '', row)\n",
    "    row = row.split( )\n",
    "    row = ' '.join(row)\n",
    "    \n",
    "    mex_ingredients.append(row)\n",
    "    \n"
   ]
  },
  {
   "cell_type": "code",
   "execution_count": 7,
   "metadata": {},
   "outputs": [
    {
     "name": "stdout",
     "output_type": "stream",
     "text": [
      "       abbamele  accent  acinipepe  acornsquash  activedryyeast  adobosauce  \\\n",
      "4             0       0          0            0               0           0   \n",
      "14            0       0          0            0               0           0   \n",
      "20            0       0          0            0               0           0   \n",
      "56            0       0          0            0               0           0   \n",
      "62            0       0          0            0               0           0   \n",
      "...         ...     ...        ...          ...             ...         ...   \n",
      "49679         0       0          0            0               0           0   \n",
      "49681         0       0          0            0               0           0   \n",
      "49689         0       0          0            0               0           0   \n",
      "49697         0       0          0            0               0           0   \n",
      "49708         0       0          0            0               0           0   \n",
      "\n",
      "       adoboseasoning  agavenectar  agedbalsamicvinegar  agedgouda  ...  \\\n",
      "4                   0            0                    0          0  ...   \n",
      "14                  0            0                    0          0  ...   \n",
      "20                  0            0                    0          0  ...   \n",
      "56                  0            0                    0          0  ...   \n",
      "62                  0            0                    0          0  ...   \n",
      "...               ...          ...                  ...        ...  ...   \n",
      "49679               0            0                    0          0  ...   \n",
      "49681               0            0                    0          0  ...   \n",
      "49689               0            0                    0          0  ...   \n",
      "49697               0            0                    0          0  ...   \n",
      "49708               0            0                    0          0  ...   \n",
      "\n",
      "       yukongold  yukongoldpotatoes  zaatar  zest  zestyitaliandressing  \\\n",
      "4              0                  0       0     0                     0   \n",
      "14             0                  0       0     0                     0   \n",
      "20             0                  0       0     0                     0   \n",
      "56             0                  0       0     0                     0   \n",
      "62             0                  0       0     0                     0   \n",
      "...          ...                ...     ...   ...                   ...   \n",
      "49679          0                  0       0     0                     0   \n",
      "49681          0                  0       0     0                     0   \n",
      "49689          0                  0       0     0                     0   \n",
      "49697          0                  0       0     0                     0   \n",
      "49708          0                  0       0     0                     0   \n",
      "\n",
      "       zinfandel  ziti  zucchini  zucchiniblossoms  Cuisine  \n",
      "4              0     0         0                 0        0  \n",
      "14             0     0         0                 0        0  \n",
      "20             0     0         0                 0        0  \n",
      "56             0     0         0                 0        0  \n",
      "62             0     0         0                 0        0  \n",
      "...          ...   ...       ...               ...      ...  \n",
      "49679          0     0         0                 0        0  \n",
      "49681          0     0         0                 0        0  \n",
      "49689          0     0         0                 0        0  \n",
      "49697          0     0         0                 0        0  \n",
      "49708          0     0         0                 0        0  \n",
      "\n",
      "[7838 rows x 2925 columns]\n",
      "       achiote  achiotepaste  achiotepowder  acornsquash  activedryyeast  \\\n",
      "1            0             0              0            0               0   \n",
      "15           0             0              0            0               0   \n",
      "19           0             0              0            0               0   \n",
      "22           0             0              0            0               0   \n",
      "25           0             0              0            0               0   \n",
      "...        ...           ...            ...          ...             ...   \n",
      "49678        0             0              0            0               0   \n",
      "49687        0             0              0            0               0   \n",
      "49707        0             0              0            0               0   \n",
      "49709        0             0              0            0               0   \n",
      "49717        0             0              0            0               0   \n",
      "\n",
      "       adobo  adoboallpurposeseasoning  adobosauce  adoboseasoning  \\\n",
      "1          0                         0           0               0   \n",
      "15         0                         0           0               0   \n",
      "19         0                         0           0               0   \n",
      "22         0                         0           0               0   \n",
      "25         0                         0           0               0   \n",
      "...      ...                       ...         ...             ...   \n",
      "49678      0                         0           0               0   \n",
      "49687      0                         0           0               0   \n",
      "49707      0                         0           0               0   \n",
      "49709      0                         0           0               0   \n",
      "49717      0                         0           1               0   \n",
      "\n",
      "       agavenectar  ...  yolk  yuca  yukongold  yukongoldpotatoes  zaatar  \\\n",
      "1                0  ...     0     0          0                  0       0   \n",
      "15               0  ...     0     0          0                  0       0   \n",
      "19               0  ...     0     0          0                  0       0   \n",
      "22               0  ...     0     0          0                  0       0   \n",
      "25               0  ...     0     0          0                  0       0   \n",
      "...            ...  ...   ...   ...        ...                ...     ...   \n",
      "49678            0  ...     0     0          0                  0       0   \n",
      "49687            0  ...     0     0          0                  0       0   \n",
      "49707            0  ...     0     0          0                  0       0   \n",
      "49709            0  ...     0     0          0                  0       0   \n",
      "49717            0  ...     0     0          0                  0       0   \n",
      "\n",
      "       zest  zestyitaliandressing  zucchini  zucchiniblossoms  Cuisine  \n",
      "1         0                     0         0                 0        1  \n",
      "15        0                     0         0                 0        1  \n",
      "19        0                     0         0                 0        1  \n",
      "22        0                     0         0                 0        1  \n",
      "25        0                     0         0                 0        1  \n",
      "...     ...                   ...       ...               ...      ...  \n",
      "49678     0                     0         0                 0        1  \n",
      "49687     0                     0         0                 0        1  \n",
      "49707     0                     0         0                 0        1  \n",
      "49709     0                     0         0                 0        1  \n",
      "49717     0                     0         0                 0        1  \n",
      "\n",
      "[6438 rows x 2681 columns]\n"
     ]
    }
   ],
   "source": [
    "#using CountVectorizer  (italian, mexican) and adding one column Cuisine\n",
    "\n",
    "it_vectorizer = CountVectorizer(analyzer = 'word', binary = True)\n",
    "it_array = it_vectorizer.fit_transform(it_ingredients)\n",
    "it_array = it_array.toarray()\n",
    "\n",
    "it_df = DataFrame(it_array, columns = it_vectorizer.get_feature_names(), index = it_unique_ids)\n",
    "it_df['Cuisine'] = 0 #italian\n",
    "it_df.to_csv('it_cleandata.csv', index_label = 'ID')\n",
    "print(it_df)\n",
    "\n",
    "mex_vectorizer = CountVectorizer(analyzer = 'word', binary = True)\n",
    "mex_array = mex_vectorizer.fit_transform(mex_ingredients)\n",
    "mex_array = mex_array.toarray()\n",
    "\n",
    "mex_df = DataFrame(mex_array, columns = mex_vectorizer.get_feature_names(), index = mex_unique_ids)\n",
    "mex_df['Cuisine'] = 1 #mexican\n",
    "mex_df.to_csv('mex_cleandata.csv', index_label = 'ID')\n",
    "print(mex_df)"
   ]
  },
  {
   "cell_type": "code",
   "execution_count": 8,
   "metadata": {},
   "outputs": [
    {
     "name": "stdout",
     "output_type": "stream",
     "text": [
      "4        0\n",
      "14       0\n",
      "20       0\n",
      "56       0\n",
      "62       0\n",
      "        ..\n",
      "49678    1\n",
      "49687    1\n",
      "49707    1\n",
      "49709    1\n",
      "49717    1\n",
      "Name: Cuisine, Length: 14276, dtype: int64\n"
     ]
    }
   ],
   "source": [
    "#putting mexican and italian in one DataFrame\n",
    "\n",
    "df = pd.DataFrame(it_df)\n",
    "df = df.append(mex_df, sort = False)\n",
    "df.fillna(0, inplace = True)\n",
    "df = df.astype('int64')\n",
    "print(df['Cuisine'])"
   ]
  },
  {
   "cell_type": "code",
   "execution_count": 9,
   "metadata": {},
   "outputs": [
    {
     "name": "stdout",
     "output_type": "stream",
     "text": [
      "[[0 0 0 ... 0 0 0]\n",
      " [0 0 0 ... 0 0 0]\n",
      " [0 0 0 ... 0 0 0]\n",
      " ...\n",
      " [0 0 0 ... 0 0 0]\n",
      " [0 0 0 ... 0 0 0]\n",
      " [0 0 0 ... 0 0 0]]\n",
      "(14276, 3976)\n"
     ]
    }
   ],
   "source": [
    "X = df.loc[:, df.columns != 'Cuisine'].values  #all columns with values except Cuisine column\n",
    "print(X)\n",
    "print(X.shape)\n",
    "\n",
    "Y = df['Cuisine'] #just the ids in a list\n",
    "#print(Y)"
   ]
  },
  {
   "cell_type": "code",
   "execution_count": 10,
   "metadata": {},
   "outputs": [],
   "source": [
    "X_train, X_test, Y_train, Y_test = train_test_split(X, Y, test_size = 0.25, random_state = 0)"
   ]
  },
  {
   "cell_type": "code",
   "execution_count": 11,
   "metadata": {},
   "outputs": [],
   "source": [
    "# Multiple Logistic Regression \n",
    "\n",
    "lr_m = linear_model.LogisticRegression()\n",
    "lr_m.fit(X_train, Y_train)"
   ]
  },
  {
   "cell_type": "code",
   "execution_count": 12,
   "metadata": {},
   "outputs": [
    {
     "name": "stdout",
     "output_type": "stream",
     "text": [
      "classifier score: 0.9686186606892687\n",
      "\n",
      "accuracy: 0.9686186606892687\n",
      "\n",
      "Confusion matrix:\n",
      "[[1887   40]\n",
      " [  72 1570]]\n",
      "\n",
      "Precision Score per class:\n",
      "[0.96324655 0.97515528]\n",
      "\n",
      "Average Precision Score:\n",
      "0.9687254354733641\n",
      "\n",
      "Recall Score per class:\n",
      "[0.97924235 0.95615104]\n",
      "\n",
      "Average Recall Score:\n",
      "0.9686186606892687\n",
      "\n",
      "F1-score Score per class:\n",
      "[0.97117859 0.96555966]\n",
      "\n",
      "Average F1 Score:\n",
      "0.9685934707348253\n"
     ]
    }
   ],
   "source": [
    "print(\"classifier score:\",lr_m.score(X_test, Y_test))\n",
    "Y_pred = lr_m.predict(X_test)\n",
    "print(\"\\naccuracy:\",metrics.accuracy_score(Y_test, Y_pred))\n",
    "print(\"\\nConfusion matrix:\")\n",
    "print(metrics.confusion_matrix(Y_test, Y_pred))\n",
    "print(\"\\nPrecision Score per class:\")\n",
    "print(metrics.precision_score(Y_test, Y_pred, average = None))\n",
    "print(\"\\nAverage Precision Score:\")\n",
    "print(metrics.precision_score(Y_test, Y_pred, average = 'weighted'))\n",
    "print(\"\\nRecall Score per class:\")\n",
    "print(metrics.recall_score(Y_test, Y_pred, average = None))\n",
    "print(\"\\nAverage Recall Score:\")\n",
    "print(metrics.recall_score(Y_test, Y_pred, average = 'weighted'))\n",
    "print(\"\\nF1-score Score per class:\")\n",
    "print(metrics.f1_score(Y_test, Y_pred, average = None))\n",
    "print(\"\\nAverage F1 Score:\")\n",
    "print(metrics.f1_score(Y_test, Y_pred, average = 'weighted'))\n",
    "\n",
    "report = metrics.classification_report(Y_test,Y_pred)\n",
    "print(report)"
   ]
  },
  {
   "cell_type": "code",
   "execution_count": 13,
   "metadata": {},
   "outputs": [
    {
     "name": "stdout",
     "output_type": "stream",
     "text": [
      "scores: [0.96809087 0.97195581 0.96879183 0.96668815 0.96880957]\n",
      "mean scores: 0.9688672451742961\n"
     ]
    }
   ],
   "source": [
    "scores = model_selection.cross_val_score(lr_m, X, Y, scoring = 'f1_weighted', cv = 5)\n",
    "print('scores:', scores)\n",
    "print('mean scores:', scores.mean())"
   ]
  },
  {
   "cell_type": "code",
   "execution_count": 14,
   "metadata": {},
   "outputs": [],
   "source": [
    "#scores = model_selection.cross_val_score(#lr_m,\n",
    "                                          #svm_m,\n",
    "                                          #knn,\n",
    "                                          #dtree,\n",
    "                                          #X,\n",
    "                                          #Y,\n",
    "                                          #scoring='f1_weighted',\n",
    "                                          #cv=5)\n",
    "#print (scores)\n",
    "#print (scores.mean())"
   ]
  },
  {
   "cell_type": "code",
   "execution_count": 15,
   "metadata": {},
   "outputs": [
    {
     "data": {
      "text/plain": [
       "SVC(C=1.0, break_ties=False, cache_size=200, class_weight=None, coef0=0.0,\n",
       "    decision_function_shape='ovr', degree=3, gamma='scale', kernel='rbf',\n",
       "    max_iter=-1, probability=False, random_state=None, shrinking=True,\n",
       "    tol=0.001, verbose=False)"
      ]
     },
     "execution_count": 15,
     "metadata": {},
     "output_type": "execute_result"
    }
   ],
   "source": [
    "# Support Vector Machines\n",
    "\n",
    "svm_m = svm.SVC()\n",
    "svm_m.fit(X_train, Y_train)"
   ]
  },
  {
   "cell_type": "code",
   "execution_count": 16,
   "metadata": {},
   "outputs": [
    {
     "name": "stdout",
     "output_type": "stream",
     "text": [
      "classifier score: 0.9649761838049874\n",
      "\n",
      "accuracy: 0.9649761838049874\n",
      "\n",
      "Confusion matrix:\n",
      "[[1894   33]\n",
      " [  92 1550]]\n",
      "\n",
      "Precision Score per class:\n",
      "[0.95367573 0.97915351]\n",
      "\n",
      "Average Precision Score:\n",
      "0.9653973630645947\n",
      "\n",
      "Recall Score per class:\n",
      "[0.98287494 0.94397077]\n",
      "\n",
      "Average Recall Score:\n",
      "0.9649761838049874\n",
      "\n",
      "F1-score Score per class:\n",
      "[0.9680552  0.96124031]\n",
      "\n",
      "Average F1 Score:\n",
      "0.9649198545052377\n"
     ]
    }
   ],
   "source": [
    "print(\"classifier score:\",svm_m.score(X_test, Y_test))\n",
    "Y_pred = svm_m.predict(X_test)\n",
    "print(\"\\naccuracy:\",metrics.accuracy_score(Y_test, Y_pred))\n",
    "print(\"\\nConfusion matrix:\")\n",
    "print(metrics.confusion_matrix(Y_test, Y_pred))\n",
    "print(\"\\nPrecision Score per class:\")\n",
    "print(metrics.precision_score(Y_test, Y_pred, average = None))\n",
    "print(\"\\nAverage Precision Score:\")\n",
    "print(metrics.precision_score(Y_test, Y_pred, average = 'weighted'))\n",
    "print(\"\\nRecall Score per class:\")\n",
    "print(metrics.recall_score(Y_test, Y_pred, average= None))\n",
    "print(\"\\nAverage Recall Score:\")\n",
    "print(metrics.recall_score(Y_test, Y_pred, average = 'weighted'))\n",
    "print(\"\\nF1-score Score per class:\")\n",
    "print(metrics.f1_score(Y_test, Y_pred, average = None))\n",
    "print(\"\\nAverage F1 Score:\")\n",
    "print(metrics.f1_score(Y_test, Y_pred, average = 'weighted'))\n",
    "\n",
    "report = metrics.classification_report(Y_test,Y_pred)\n",
    "print(report)"
   ]
  },
  {
   "cell_type": "code",
   "execution_count": 18,
   "metadata": {},
   "outputs": [
    {
     "name": "stdout",
     "output_type": "stream",
     "text": [
      "classifier accuracy: 0.9366769403194172\n",
      "classifier predictions: [1 0 0 ... 1 0 1]\n",
      "ground truth labels   : 41913    1\n",
      "39513    0\n",
      "31187    0\n",
      "47868    1\n",
      "26047    0\n",
      "        ..\n",
      "21426    0\n",
      "16747    0\n",
      "37271    1\n",
      "13967    0\n",
      "7027     1\n",
      "Name: Cuisine, Length: 3569, dtype: int64\n",
      "[[0. 1.]\n",
      " [1. 0.]\n",
      " [1. 0.]\n",
      " ...\n",
      " [0. 1.]\n",
      " [1. 0.]\n",
      " [0. 1.]]\n"
     ]
    }
   ],
   "source": [
    "#Decision Trees\n",
    "\n",
    "dtree = tree.DecisionTreeClassifier()\n",
    "dtree = dtree.fit(X_train, Y_train)\n",
    "\n",
    "print(\"classifier accuracy:\",dtree.score(X_test, Y_test))\n",
    "\n",
    "Y_pred = dtree.predict(X_test)\n",
    "Y_prob = dtree.predict_proba(X_test)\n",
    "print(\"classifier predictions:\", Y_pred)\n",
    "print(\"ground truth labels   :\", Y_test)\n",
    "print(Y_prob)"
   ]
  },
  {
   "cell_type": "code",
   "execution_count": 19,
   "metadata": {},
   "outputs": [
    {
     "name": "stdout",
     "output_type": "stream",
     "text": [
      "accuracy: 0.9366769403194172\n",
      "\n",
      "Confusion matrix:\n",
      "[[1816  111]\n",
      " [ 115 1527]]\n",
      "\n",
      "Precision Score per class:\n",
      "[0.94044537 0.93223443]\n",
      "\n",
      "Average Precision Score:\n",
      "0.9366677378169107\n",
      "\n",
      "Recall Score per class:\n",
      "[0.94239751 0.92996346]\n",
      "\n",
      "Average Recall Score:\n",
      "0.9366769403194172\n",
      "\n",
      "F1-score Score per class:\n",
      "[0.94142043 0.93109756]\n",
      "\n",
      "Average F1 Score:\n",
      "0.9366711555818912\n"
     ]
    }
   ],
   "source": [
    "print(\"accuracy:\", metrics.accuracy_score(Y_test, Y_pred))\n",
    "print(\"\\nConfusion matrix:\")\n",
    "print(metrics.confusion_matrix(Y_test, Y_pred))\n",
    "print(\"\\nPrecision Score per class:\")\n",
    "print(metrics.precision_score(Y_test, Y_pred, average=None))\n",
    "print(\"\\nAverage Precision Score:\")\n",
    "print(metrics.precision_score(Y_test, Y_pred, average='weighted'))\n",
    "print(\"\\nRecall Score per class:\")\n",
    "print(metrics.recall_score(Y_test, Y_pred, average=None))\n",
    "print(\"\\nAverage Recall Score:\")\n",
    "print(metrics.recall_score(Y_test, Y_pred, average='weighted'))\n",
    "print(\"\\nF1-score Score per class:\")\n",
    "print(metrics.f1_score(Y_test, Y_pred, average=None))\n",
    "print(\"\\nAverage F1 Score:\")\n",
    "print(metrics.f1_score(Y_test, Y_pred, average='weighted'))\n",
    "\n",
    "report = metrics.classification_report(Y_test,Y_pred)\n",
    "print(report)"
   ]
  },
  {
   "cell_type": "code",
   "execution_count": 29,
   "metadata": {},
   "outputs": [
    {
     "data": {
      "text/plain": [
       "KNeighborsClassifier(algorithm='auto', leaf_size=30, metric='minkowski',\n",
       "                     metric_params=None, n_jobs=None, n_neighbors=2, p=2,\n",
       "                     weights='uniform')"
      ]
     },
     "execution_count": 29,
     "metadata": {},
     "output_type": "execute_result"
    }
   ],
   "source": [
    "#k-NN\n",
    "\n",
    "knn = KNeighborsClassifier(n_neighbors = 3)\n",
    "knn.fit(X_train,Y_train)"
   ]
  },
  {
   "cell_type": "code",
   "execution_count": 30,
   "metadata": {},
   "outputs": [
    {
     "name": "stdout",
     "output_type": "stream",
     "text": [
      "classifier score: 0.8391706360325021\n",
      "\n",
      "accuracy: 0.8391706360325021\n",
      "\n",
      "Confusion matrix:\n",
      "[[1858   69]\n",
      " [ 505 1137]]\n",
      "\n",
      "Precision Score per class:\n",
      "[0.78628862 0.94278607]\n",
      "\n",
      "Average Precision Score:\n",
      "0.8582888455365175\n",
      "\n",
      "Recall Score per class:\n",
      "[0.96419305 0.69244823]\n",
      "\n",
      "Average Recall Score:\n",
      "0.8391706360325021\n",
      "\n",
      "F1-score Score per class:\n",
      "[0.86620047 0.79845506]\n",
      "\n",
      "Average F1 Score:\n",
      "0.8350326423691481\n",
      "Report:               precision    recall  f1-score   support\n",
      "\n",
      "           0       0.79      0.96      0.87      1927\n",
      "           1       0.94      0.69      0.80      1642\n",
      "\n",
      "    accuracy                           0.84      3569\n",
      "   macro avg       0.86      0.83      0.83      3569\n",
      "weighted avg       0.86      0.84      0.84      3569\n",
      "\n"
     ]
    }
   ],
   "source": [
    "print(\"classifier score:\", knn.score(X_test, Y_test))\n",
    "\n",
    "Y_pred = knn.predict(X_test)\n",
    "\n",
    "print(\"\\naccuracy:\",metrics.accuracy_score(Y_test, Y_pred))\n",
    "print(\"\\nConfusion matrix:\")\n",
    "print(metrics.confusion_matrix(Y_test, Y_pred))\n",
    "print(\"\\nPrecision Score per class:\")\n",
    "print(metrics.precision_score(Y_test, Y_pred, average = None))\n",
    "print(\"\\nAverage Precision Score:\")\n",
    "print(metrics.precision_score(Y_test, Y_pred, average = 'weighted'))\n",
    "print(\"\\nRecall Score per class:\")\n",
    "print(metrics.recall_score(Y_test, Y_pred, average = None))\n",
    "print(\"\\nAverage Recall Score:\")\n",
    "print(metrics.recall_score(Y_test, Y_pred, average = 'weighted'))\n",
    "print(\"\\nF1-score Score per class:\")\n",
    "print(metrics.f1_score(Y_test, Y_pred, average = None))\n",
    "print(\"\\nAverage F1 Score:\")\n",
    "print(metrics.f1_score(Y_test, Y_pred, average = 'weighted'))\n",
    "\n",
    "report = metrics.classification_report(Y_test,Y_pred)\n",
    "print('Report:', report)"
   ]
  },
  {
   "cell_type": "code",
   "execution_count": null,
   "metadata": {},
   "outputs": [],
   "source": []
  }
 ],
 "metadata": {
  "kernelspec": {
   "display_name": "Python 3",
   "language": "python",
   "name": "python3"
  },
  "language_info": {
   "codemirror_mode": {
    "name": "ipython",
    "version": 3
   },
   "file_extension": ".py",
   "mimetype": "text/x-python",
   "name": "python",
   "nbconvert_exporter": "python",
   "pygments_lexer": "ipython3",
   "version": "3.7.4"
  }
 },
 "nbformat": 4,
 "nbformat_minor": 2
}
