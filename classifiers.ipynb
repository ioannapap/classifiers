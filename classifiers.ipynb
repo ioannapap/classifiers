{
 "cells": [
  {
   "cell_type": "code",
   "execution_count": 1,
   "metadata": {},
   "outputs": [],
   "source": [
    "import numpy as np\n",
    "import pandas as pd\n",
    "from pandas import DataFrame\n",
    "import scipy as sp\n",
    "import string\n",
    "import json\n",
    "import re\n",
    "import sklearn.metrics as metrics\n",
    "from sklearn.feature_extraction.text import CountVectorizer\n",
    "import matplotlib.pyplot as  plt\n",
    "import seaborn as sns\n",
    "import sklearn\n",
    "from sklearn.metrics import accuracy_score\n",
    "####\n",
    "from sklearn.model_selection import train_test_split\n",
    "from sklearn import linear_model\n",
    "import statsmodels.api as sm\n",
    "\n",
    "from sklearn.linear_model import LogisticRegression\n",
    "import sklearn.linear_model as linear_model\n",
    "import sklearn.model_selection as model_selection\n",
    "\n",
    "from sklearn import svm\n",
    "from sklearn import tree\n",
    "from sklearn.neighbors import KNeighborsClassifier\n",
    "from sklearn.naive_bayes import BernoulliNB"
   ]
  },
  {
   "cell_type": "code",
   "execution_count": 2,
   "metadata": {},
   "outputs": [],
   "source": [
    "# open training dataset and parse recipes\n",
    "\n",
    "with open('train.json') as cooking_file:  \n",
    "    \n",
    "    data = json.load(cooking_file)\n",
    "    "
   ]
  },
  {
   "cell_type": "code",
   "execution_count": 3,
   "metadata": {},
   "outputs": [],
   "source": [
    "#removing punctuations and spaces before fixing the data and keep them all in a dict  (italian, mexican)\n",
    "\n",
    "punctuations = '''!()-[]{};:'\"\\,<>./?@#$%^&*_~'''\n",
    "\n",
    "def gather_recipes(recipes, cuisine_country):\n",
    "    \n",
    "    data_list = []\n",
    "    \n",
    "    for _object in recipes:\n",
    "        \n",
    "        if _object.get('cuisine') == cuisine_country:\n",
    "            \n",
    "            ingredients = _object.get('ingredients') \n",
    "            _id = _object.get('id')\n",
    "            \n",
    "            for i in ingredients:\n",
    "                \n",
    "                _dict = dict()\n",
    "                ingr = i.replace(' ', '').lower()\n",
    "                    \n",
    "                for ch in ingr: \n",
    "                    \n",
    "                    if ch in punctuations: \n",
    "                        \n",
    "                        ingr = ingr.replace(ch, '')  \n",
    "                \n",
    "                _dict['ingredients'] = ingr                \n",
    "                _dict['id'] = _id\n",
    "                data_list.append(_dict)\n",
    "                \n",
    "    return data_list\n",
    "\n",
    "clean_italian_cuisine_data = gather_recipes(data, 'italian')\n",
    "clean_mexican_cuisine_data = gather_recipes(data, 'mexican')"
   ]
  },
  {
   "cell_type": "code",
   "execution_count": 4,
   "metadata": {},
   "outputs": [],
   "source": [
    "#creating dfs  (italian, mexican)\n",
    "\n",
    "italian_df = DataFrame(clean_italian_cuisine_data)\n",
    "italian_ingredients = list(set(italian_df.ingredients))\n",
    "\n",
    "mexican_df = DataFrame(clean_mexican_cuisine_data)\n",
    "mexican_ingredients = list(set(mexican_df.ingredients))\n"
   ]
  },
  {
   "cell_type": "code",
   "execution_count": 5,
   "metadata": {},
   "outputs": [],
   "source": [
    "#fixing data for CountVectorizer (italian_df)\n",
    "\n",
    "it_unique_ids = []\n",
    "it_ingredients = []\n",
    "it_grouped = italian_df.groupby('id')\n",
    "\n",
    "for ids, ing in it_grouped:\n",
    "    \n",
    "    it_unique_ids.append(ids)\n",
    "    \n",
    "    row = str(ing)\n",
    "    row = row.replace('ingredients','')\n",
    "    row = row.replace('id', '')\n",
    "    row = row.replace('\\n', '')\n",
    "    row = re.sub('[0-9]+', '', row)\n",
    "    row = row.split( )\n",
    "    row = ' '.join(row)\n",
    "    \n",
    "    it_ingredients.append(row)\n",
    "    "
   ]
  },
  {
   "cell_type": "code",
   "execution_count": 6,
   "metadata": {},
   "outputs": [],
   "source": [
    "#fixing data for CountVectorizer (mexican_df)\n",
    "\n",
    "mex_unique_ids = []\n",
    "mex_ingredients = []\n",
    "mex_grouped = mexican_df.groupby('id')\n",
    "\n",
    "for ids, ing in mex_grouped:\n",
    "    \n",
    "    mex_unique_ids.append(ids)\n",
    "    \n",
    "    row = str(ing)\n",
    "    row = row.replace('ingredients','')\n",
    "    row = row.replace('id', '')\n",
    "    row = row.replace('\\n', '')\n",
    "    row = re.sub('[0-9]+', '', row)\n",
    "    row = row.split( )\n",
    "    row = ' '.join(row)\n",
    "    \n",
    "    mex_ingredients.append(row)\n",
    "    \n"
   ]
  },
  {
   "cell_type": "code",
   "execution_count": 7,
   "metadata": {},
   "outputs": [
    {
     "name": "stdout",
     "output_type": "stream",
     "text": [
      "       abbamele  accent  acinipepe  acornsquash  activedryyeast  adobosauce  \\\n",
      "4             0       0          0            0               0           0   \n",
      "14            0       0          0            0               0           0   \n",
      "20            0       0          0            0               0           0   \n",
      "56            0       0          0            0               0           0   \n",
      "62            0       0          0            0               0           0   \n",
      "...         ...     ...        ...          ...             ...         ...   \n",
      "49679         0       0          0            0               0           0   \n",
      "49681         0       0          0            0               0           0   \n",
      "49689         0       0          0            0               0           0   \n",
      "49697         0       0          0            0               0           0   \n",
      "49708         0       0          0            0               0           0   \n",
      "\n",
      "       adoboseasoning  agavenectar  agedbalsamicvinegar  agedgouda  ...  \\\n",
      "4                   0            0                    0          0  ...   \n",
      "14                  0            0                    0          0  ...   \n",
      "20                  0            0                    0          0  ...   \n",
      "56                  0            0                    0          0  ...   \n",
      "62                  0            0                    0          0  ...   \n",
      "...               ...          ...                  ...        ...  ...   \n",
      "49679               0            0                    0          0  ...   \n",
      "49681               0            0                    0          0  ...   \n",
      "49689               0            0                    0          0  ...   \n",
      "49697               0            0                    0          0  ...   \n",
      "49708               0            0                    0          0  ...   \n",
      "\n",
      "       yukongold  yukongoldpotatoes  zaatar  zest  zestyitaliandressing  \\\n",
      "4              0                  0       0     0                     0   \n",
      "14             0                  0       0     0                     0   \n",
      "20             0                  0       0     0                     0   \n",
      "56             0                  0       0     0                     0   \n",
      "62             0                  0       0     0                     0   \n",
      "...          ...                ...     ...   ...                   ...   \n",
      "49679          0                  0       0     0                     0   \n",
      "49681          0                  0       0     0                     0   \n",
      "49689          0                  0       0     0                     0   \n",
      "49697          0                  0       0     0                     0   \n",
      "49708          0                  0       0     0                     0   \n",
      "\n",
      "       zinfandel  ziti  zucchini  zucchiniblossoms  Cuisine  \n",
      "4              0     0         0                 0        0  \n",
      "14             0     0         0                 0        0  \n",
      "20             0     0         0                 0        0  \n",
      "56             0     0         0                 0        0  \n",
      "62             0     0         0                 0        0  \n",
      "...          ...   ...       ...               ...      ...  \n",
      "49679          0     0         0                 0        0  \n",
      "49681          0     0         0                 0        0  \n",
      "49689          0     0         0                 0        0  \n",
      "49697          0     0         0                 0        0  \n",
      "49708          0     0         0                 0        0  \n",
      "\n",
      "[7838 rows x 2925 columns]\n",
      "       achiote  achiotepaste  achiotepowder  acornsquash  activedryyeast  \\\n",
      "1            0             0              0            0               0   \n",
      "15           0             0              0            0               0   \n",
      "19           0             0              0            0               0   \n",
      "22           0             0              0            0               0   \n",
      "25           0             0              0            0               0   \n",
      "...        ...           ...            ...          ...             ...   \n",
      "49678        0             0              0            0               0   \n",
      "49687        0             0              0            0               0   \n",
      "49707        0             0              0            0               0   \n",
      "49709        0             0              0            0               0   \n",
      "49717        0             0              0            0               0   \n",
      "\n",
      "       adobo  adoboallpurposeseasoning  adobosauce  adoboseasoning  \\\n",
      "1          0                         0           0               0   \n",
      "15         0                         0           0               0   \n",
      "19         0                         0           0               0   \n",
      "22         0                         0           0               0   \n",
      "25         0                         0           0               0   \n",
      "...      ...                       ...         ...             ...   \n",
      "49678      0                         0           0               0   \n",
      "49687      0                         0           0               0   \n",
      "49707      0                         0           0               0   \n",
      "49709      0                         0           0               0   \n",
      "49717      0                         0           1               0   \n",
      "\n",
      "       agavenectar  ...  yolk  yuca  yukongold  yukongoldpotatoes  zaatar  \\\n",
      "1                0  ...     0     0          0                  0       0   \n",
      "15               0  ...     0     0          0                  0       0   \n",
      "19               0  ...     0     0          0                  0       0   \n",
      "22               0  ...     0     0          0                  0       0   \n",
      "25               0  ...     0     0          0                  0       0   \n",
      "...            ...  ...   ...   ...        ...                ...     ...   \n",
      "49678            0  ...     0     0          0                  0       0   \n",
      "49687            0  ...     0     0          0                  0       0   \n",
      "49707            0  ...     0     0          0                  0       0   \n",
      "49709            0  ...     0     0          0                  0       0   \n",
      "49717            0  ...     0     0          0                  0       0   \n",
      "\n",
      "       zest  zestyitaliandressing  zucchini  zucchiniblossoms  Cuisine  \n",
      "1         0                     0         0                 0        1  \n",
      "15        0                     0         0                 0        1  \n",
      "19        0                     0         0                 0        1  \n",
      "22        0                     0         0                 0        1  \n",
      "25        0                     0         0                 0        1  \n",
      "...     ...                   ...       ...               ...      ...  \n",
      "49678     0                     0         0                 0        1  \n",
      "49687     0                     0         0                 0        1  \n",
      "49707     0                     0         0                 0        1  \n",
      "49709     0                     0         0                 0        1  \n",
      "49717     0                     0         0                 0        1  \n",
      "\n",
      "[6438 rows x 2681 columns]\n"
     ]
    }
   ],
   "source": [
    "#using CountVectorizer  (italian, mexican) and adding one column Cuisine\n",
    "\n",
    "it_vectorizer = CountVectorizer(analyzer = 'word', binary = True)\n",
    "it_array = it_vectorizer.fit_transform(it_ingredients)\n",
    "it_array = it_array.toarray()\n",
    "\n",
    "it_df = DataFrame(it_array, columns = it_vectorizer.get_feature_names(), index = it_unique_ids)\n",
    "it_df['Cuisine'] = 0 #italian\n",
    "it_df.to_csv('it_cleandata.csv', index_label = 'ID')\n",
    "print(it_df)\n",
    "\n",
    "mex_vectorizer = CountVectorizer(analyzer = 'word', binary = True)\n",
    "mex_array = mex_vectorizer.fit_transform(mex_ingredients)\n",
    "mex_array = mex_array.toarray()\n",
    "\n",
    "mex_df = DataFrame(mex_array, columns = mex_vectorizer.get_feature_names(), index = mex_unique_ids)\n",
    "mex_df['Cuisine'] = 1 #mexican\n",
    "mex_df.to_csv('mex_cleandata.csv', index_label = 'ID')\n",
    "print(mex_df)"
   ]
  },
  {
   "cell_type": "code",
   "execution_count": 8,
   "metadata": {},
   "outputs": [],
   "source": [
    "#putting mexican and italian in one DataFrame\n",
    "\n",
    "df = pd.DataFrame(it_df)\n",
    "df = df.append(mex_df, sort = False)\n",
    "df.fillna(0, inplace = True)\n",
    "df = df.astype('int64')"
   ]
  },
  {
   "cell_type": "code",
   "execution_count": 9,
   "metadata": {},
   "outputs": [
    {
     "name": "stdout",
     "output_type": "stream",
     "text": [
      "(14276, 3976)\n"
     ]
    }
   ],
   "source": [
    "X = df.loc[:, df.columns != 'Cuisine'].values  #all columns with values except Cuisine column\n",
    "print(X.shape)\n",
    "\n",
    "Y = df['Cuisine'] #just the ids in a list"
   ]
  },
  {
   "cell_type": "code",
   "execution_count": 10,
   "metadata": {},
   "outputs": [],
   "source": [
    "X_train, X_test, Y_train, Y_test = train_test_split(X, Y, test_size = 0.25, random_state = 0)"
   ]
  },
  {
   "cell_type": "code",
   "execution_count": 11,
   "metadata": {},
   "outputs": [
    {
     "data": {
      "text/plain": [
       "LogisticRegression(C=1.0, class_weight=None, dual=False, fit_intercept=True,\n",
       "                   intercept_scaling=1, l1_ratio=None, max_iter=100,\n",
       "                   multi_class='auto', n_jobs=None, penalty='l2',\n",
       "                   random_state=None, solver='lbfgs', tol=0.0001, verbose=0,\n",
       "                   warm_start=False)"
      ]
     },
     "execution_count": 11,
     "metadata": {},
     "output_type": "execute_result"
    }
   ],
   "source": [
    "# Multiple Logistic Regression \n",
    "\n",
    "lr_m = linear_model.LogisticRegression()\n",
    "lr_m.fit(X_train, Y_train)"
   ]
  },
  {
   "cell_type": "code",
   "execution_count": 12,
   "metadata": {},
   "outputs": [
    {
     "name": "stdout",
     "output_type": "stream",
     "text": [
      "classifier score: 0.9686186606892687\n",
      "\n",
      "accuracy: 0.9686186606892687\n",
      "\n",
      "Confusion matrix:\n",
      "[[1887   40]\n",
      " [  72 1570]]\n",
      "\n",
      "Precision Score per class:\n",
      "[0.96324655 0.97515528]\n",
      "\n",
      "Average Precision Score:\n",
      "0.9687254354733641\n",
      "\n",
      "Recall Score per class:\n",
      "[0.97924235 0.95615104]\n",
      "\n",
      "Average Recall Score:\n",
      "0.9686186606892687\n",
      "\n",
      "F1-score Score per class:\n",
      "[0.97117859 0.96555966]\n",
      "\n",
      "Average F1 Score:\n",
      "0.9685934707348253\n",
      "              precision    recall  f1-score   support\n",
      "\n",
      "           0       0.96      0.98      0.97      1927\n",
      "           1       0.98      0.96      0.97      1642\n",
      "\n",
      "    accuracy                           0.97      3569\n",
      "   macro avg       0.97      0.97      0.97      3569\n",
      "weighted avg       0.97      0.97      0.97      3569\n",
      "\n"
     ]
    }
   ],
   "source": [
    "print(\"classifier score:\",lr_m.score(X_test, Y_test))\n",
    "Y_pred = lr_m.predict(X_test)\n",
    "print(\"\\naccuracy:\",metrics.accuracy_score(Y_test, Y_pred))\n",
    "print(\"\\nConfusion matrix:\")\n",
    "print(metrics.confusion_matrix(Y_test, Y_pred))\n",
    "print(\"\\nPrecision Score per class:\")\n",
    "print(metrics.precision_score(Y_test, Y_pred, average = None))\n",
    "print(\"\\nAverage Precision Score:\")\n",
    "print(metrics.precision_score(Y_test, Y_pred, average = 'weighted'))\n",
    "print(\"\\nRecall Score per class:\")\n",
    "print(metrics.recall_score(Y_test, Y_pred, average = None))\n",
    "print(\"\\nAverage Recall Score:\")\n",
    "print(metrics.recall_score(Y_test, Y_pred, average = 'weighted'))\n",
    "print(\"\\nF1-score Score per class:\")\n",
    "print(metrics.f1_score(Y_test, Y_pred, average = None))\n",
    "print(\"\\nAverage F1 Score:\")\n",
    "print(metrics.f1_score(Y_test, Y_pred, average = 'weighted'))\n",
    "\n",
    "report = metrics.classification_report(Y_test,Y_pred)\n",
    "print(report)"
   ]
  },
  {
   "cell_type": "code",
   "execution_count": 13,
   "metadata": {},
   "outputs": [
    {
     "name": "stdout",
     "output_type": "stream",
     "text": [
      "scores: [0.96809087 0.97195581 0.96879183 0.96668815 0.96880957]\n",
      "mean scores: 0.9688672451742961\n"
     ]
    }
   ],
   "source": [
    "scores = model_selection.cross_val_score(lr_m, X, Y, scoring = 'f1_weighted', cv = 5)\n",
    "print('scores:', scores)\n",
    "print('mean scores:', scores.mean())"
   ]
  },
  {
   "cell_type": "code",
   "execution_count": 14,
   "metadata": {},
   "outputs": [
    {
     "data": {
      "text/plain": [
       "SVC(C=1.0, break_ties=False, cache_size=200, class_weight=None, coef0=0.0,\n",
       "    decision_function_shape='ovr', degree=3, gamma='scale', kernel='rbf',\n",
       "    max_iter=-1, probability=False, random_state=None, shrinking=True,\n",
       "    tol=0.001, verbose=False)"
      ]
     },
     "execution_count": 14,
     "metadata": {},
     "output_type": "execute_result"
    }
   ],
   "source": [
    "# Support Vector Machines\n",
    "\n",
    "svm_m = svm.SVC()\n",
    "svm_m.fit(X_train, Y_train)"
   ]
  },
  {
   "cell_type": "code",
   "execution_count": 15,
   "metadata": {},
   "outputs": [
    {
     "name": "stdout",
     "output_type": "stream",
     "text": [
      "classifier score: 0.9649761838049874\n",
      "\n",
      "accuracy: 0.9649761838049874\n",
      "\n",
      "Confusion matrix:\n",
      "[[1894   33]\n",
      " [  92 1550]]\n",
      "\n",
      "Precision Score per class:\n",
      "[0.95367573 0.97915351]\n",
      "\n",
      "Average Precision Score:\n",
      "0.9653973630645947\n",
      "\n",
      "Recall Score per class:\n",
      "[0.98287494 0.94397077]\n",
      "\n",
      "Average Recall Score:\n",
      "0.9649761838049874\n",
      "\n",
      "F1-score Score per class:\n",
      "[0.9680552  0.96124031]\n",
      "\n",
      "Average F1 Score:\n",
      "0.9649198545052377\n",
      "              precision    recall  f1-score   support\n",
      "\n",
      "           0       0.95      0.98      0.97      1927\n",
      "           1       0.98      0.94      0.96      1642\n",
      "\n",
      "    accuracy                           0.96      3569\n",
      "   macro avg       0.97      0.96      0.96      3569\n",
      "weighted avg       0.97      0.96      0.96      3569\n",
      "\n"
     ]
    }
   ],
   "source": [
    "print(\"classifier score:\",svm_m.score(X_test, Y_test))\n",
    "Y_pred = svm_m.predict(X_test)\n",
    "print(\"\\naccuracy:\",metrics.accuracy_score(Y_test, Y_pred))\n",
    "print(\"\\nConfusion matrix:\")\n",
    "print(metrics.confusion_matrix(Y_test, Y_pred))\n",
    "print(\"\\nPrecision Score per class:\")\n",
    "print(metrics.precision_score(Y_test, Y_pred, average = None))\n",
    "print(\"\\nAverage Precision Score:\")\n",
    "print(metrics.precision_score(Y_test, Y_pred, average = 'weighted'))\n",
    "print(\"\\nRecall Score per class:\")\n",
    "print(metrics.recall_score(Y_test, Y_pred, average= None))\n",
    "print(\"\\nAverage Recall Score:\")\n",
    "print(metrics.recall_score(Y_test, Y_pred, average = 'weighted'))\n",
    "print(\"\\nF1-score Score per class:\")\n",
    "print(metrics.f1_score(Y_test, Y_pred, average = None))\n",
    "print(\"\\nAverage F1 Score:\")\n",
    "print(metrics.f1_score(Y_test, Y_pred, average = 'weighted'))\n",
    "\n",
    "report = metrics.classification_report(Y_test,Y_pred)\n",
    "print(report)"
   ]
  },
  {
   "cell_type": "code",
   "execution_count": 16,
   "metadata": {},
   "outputs": [
    {
     "data": {
      "text/plain": [
       "DecisionTreeClassifier(ccp_alpha=0.0, class_weight=None, criterion='gini',\n",
       "                       max_depth=None, max_features=None, max_leaf_nodes=None,\n",
       "                       min_impurity_decrease=0.0, min_impurity_split=None,\n",
       "                       min_samples_leaf=1, min_samples_split=2,\n",
       "                       min_weight_fraction_leaf=0.0, presort='deprecated',\n",
       "                       random_state=None, splitter='best')"
      ]
     },
     "execution_count": 16,
     "metadata": {},
     "output_type": "execute_result"
    }
   ],
   "source": [
    "#Decision Trees\n",
    "\n",
    "dtree = tree.DecisionTreeClassifier()\n",
    "dtree.fit(X_train, Y_train)"
   ]
  },
  {
   "cell_type": "code",
   "execution_count": 17,
   "metadata": {},
   "outputs": [
    {
     "name": "stdout",
     "output_type": "stream",
     "text": [
      "classifier score: 0.9352759876716167\n",
      "Y probability: [[0. 1.]\n",
      " [1. 0.]\n",
      " [1. 0.]\n",
      " ...\n",
      " [0. 1.]\n",
      " [1. 0.]\n",
      " [0. 1.]]\n",
      "classifier predictions: [1 0 0 ... 1 0 1]\n",
      "ground truth labels   : 41913    1\n",
      "39513    0\n",
      "31187    0\n",
      "47868    1\n",
      "26047    0\n",
      "        ..\n",
      "21426    0\n",
      "16747    0\n",
      "37271    1\n",
      "13967    0\n",
      "7027     1\n",
      "Name: Cuisine, Length: 3569, dtype: int64\n",
      "accuracy: 0.9352759876716167\n",
      "\n",
      "Confusion matrix:\n",
      "[[1810  117]\n",
      " [ 114 1528]]\n",
      "\n",
      "Precision Score per class:\n",
      "[0.94074844 0.92887538]\n",
      "\n",
      "Average Precision Score:\n",
      "0.9352859678292036\n",
      "\n",
      "Recall Score per class:\n",
      "[0.93928386 0.93057247]\n",
      "\n",
      "Average Recall Score:\n",
      "0.9352759876716167\n",
      "\n",
      "F1-score Score per class:\n",
      "[0.94001558 0.92972315]\n",
      "\n",
      "Average F1 Score:\n",
      "0.935280313433129\n",
      "              precision    recall  f1-score   support\n",
      "\n",
      "           0       0.94      0.94      0.94      1927\n",
      "           1       0.93      0.93      0.93      1642\n",
      "\n",
      "    accuracy                           0.94      3569\n",
      "   macro avg       0.93      0.93      0.93      3569\n",
      "weighted avg       0.94      0.94      0.94      3569\n",
      "\n"
     ]
    }
   ],
   "source": [
    "print(\"classifier score:\",dtree.score(X_test, Y_test))\n",
    "Y_pred = dtree.predict(X_test)\n",
    "Y_prob = dtree.predict_proba(X_test)\n",
    "print('Y probability:', Y_prob)\n",
    "\n",
    "print(\"classifier predictions:\", Y_pred)\n",
    "print(\"ground truth labels   :\", Y_test)\n",
    "\n",
    "print(\"accuracy:\", metrics.accuracy_score(Y_test, Y_pred))\n",
    "print(\"\\nConfusion matrix:\")\n",
    "print(metrics.confusion_matrix(Y_test, Y_pred))\n",
    "print(\"\\nPrecision Score per class:\")\n",
    "print(metrics.precision_score(Y_test, Y_pred, average=None))\n",
    "print(\"\\nAverage Precision Score:\")\n",
    "print(metrics.precision_score(Y_test, Y_pred, average='weighted'))\n",
    "print(\"\\nRecall Score per class:\")\n",
    "print(metrics.recall_score(Y_test, Y_pred, average=None))\n",
    "print(\"\\nAverage Recall Score:\")\n",
    "print(metrics.recall_score(Y_test, Y_pred, average='weighted'))\n",
    "print(\"\\nF1-score Score per class:\")\n",
    "print(metrics.f1_score(Y_test, Y_pred, average=None))\n",
    "print(\"\\nAverage F1 Score:\")\n",
    "print(metrics.f1_score(Y_test, Y_pred, average='weighted'))\n",
    "\n",
    "report = metrics.classification_report(Y_test,Y_pred)\n",
    "print(report)"
   ]
  },
  {
   "cell_type": "code",
   "execution_count": 18,
   "metadata": {},
   "outputs": [
    {
     "data": {
      "text/plain": [
       "KNeighborsClassifier(algorithm='auto', leaf_size=30, metric='minkowski',\n",
       "                     metric_params=None, n_jobs=None, n_neighbors=3, p=2,\n",
       "                     weights='uniform')"
      ]
     },
     "execution_count": 18,
     "metadata": {},
     "output_type": "execute_result"
    }
   ],
   "source": [
    "#k-NN\n",
    "\n",
    "knn = KNeighborsClassifier(n_neighbors = 3)\n",
    "knn.fit(X_train,Y_train)"
   ]
  },
  {
   "cell_type": "code",
   "execution_count": 19,
   "metadata": {},
   "outputs": [
    {
     "name": "stdout",
     "output_type": "stream",
     "text": [
      "classifier score: 0.8809190249369572\n",
      "\n",
      "accuracy: 0.8809190249369572\n",
      "\n",
      "Confusion matrix:\n",
      "[[1778  149]\n",
      " [ 276 1366]]\n",
      "\n",
      "Precision Score per class:\n",
      "[0.86562804 0.90165017]\n",
      "\n",
      "Average Precision Score:\n",
      "0.8822008432378832\n",
      "\n",
      "Recall Score per class:\n",
      "[0.92267774 0.8319123 ]\n",
      "\n",
      "Average Recall Score:\n",
      "0.8809190249369572\n",
      "\n",
      "F1-score Score per class:\n",
      "[0.8932429  0.86537852]\n",
      "\n",
      "Average F1 Score:\n",
      "0.8804232591419874\n",
      "Report:               precision    recall  f1-score   support\n",
      "\n",
      "           0       0.87      0.92      0.89      1927\n",
      "           1       0.90      0.83      0.87      1642\n",
      "\n",
      "    accuracy                           0.88      3569\n",
      "   macro avg       0.88      0.88      0.88      3569\n",
      "weighted avg       0.88      0.88      0.88      3569\n",
      "\n"
     ]
    }
   ],
   "source": [
    "print(\"classifier score:\", knn.score(X_test, Y_test))\n",
    "Y_pred = knn.predict(X_test)\n",
    "print(\"\\naccuracy:\",metrics.accuracy_score(Y_test, Y_pred))\n",
    "print(\"\\nConfusion matrix:\")\n",
    "print(metrics.confusion_matrix(Y_test, Y_pred))\n",
    "print(\"\\nPrecision Score per class:\")\n",
    "print(metrics.precision_score(Y_test, Y_pred, average = None))\n",
    "print(\"\\nAverage Precision Score:\")\n",
    "print(metrics.precision_score(Y_test, Y_pred, average = 'weighted'))\n",
    "print(\"\\nRecall Score per class:\")\n",
    "print(metrics.recall_score(Y_test, Y_pred, average = None))\n",
    "print(\"\\nAverage Recall Score:\")\n",
    "print(metrics.recall_score(Y_test, Y_pred, average = 'weighted'))\n",
    "print(\"\\nF1-score Score per class:\")\n",
    "print(metrics.f1_score(Y_test, Y_pred, average = None))\n",
    "print(\"\\nAverage F1 Score:\")\n",
    "print(metrics.f1_score(Y_test, Y_pred, average = 'weighted'))\n",
    "\n",
    "report = metrics.classification_report(Y_test,Y_pred)\n",
    "print('Report:', report)"
   ]
  },
  {
   "cell_type": "code",
   "execution_count": 20,
   "metadata": {},
   "outputs": [
    {
     "data": {
      "text/plain": [
       "BernoulliNB(alpha=1.0, binarize=None, class_prior=None, fit_prior=True)"
      ]
     },
     "execution_count": 20,
     "metadata": {},
     "output_type": "execute_result"
    }
   ],
   "source": [
    "# Naive Bayes\n",
    "\n",
    "gnb = BernoulliNB(binarize = None)\n",
    "gnb.fit(X_train, Y_train)"
   ]
  },
  {
   "cell_type": "code",
   "execution_count": 21,
   "metadata": {},
   "outputs": [
    {
     "name": "stdout",
     "output_type": "stream",
     "text": [
      "classifier score: 0.9630148500980666\n",
      "\n",
      "accuracy: 0.9630148500980666\n",
      "\n",
      "Confusion matrix:\n",
      "[[1893   34]\n",
      " [  98 1544]]\n",
      "\n",
      "Precision Score per class:\n",
      "[0.9507785  0.97845374]\n",
      "\n",
      "Average Precision Score:\n",
      "0.9635111277896611\n",
      "\n",
      "Recall Score per class:\n",
      "[0.98235599 0.94031669]\n",
      "\n",
      "Average Recall Score:\n",
      "0.9630148500980666\n",
      "\n",
      "F1-score Score per class:\n",
      "[0.96630934 0.95900621]\n",
      "\n",
      "Average F1 Score:\n",
      "0.9629493695236031\n",
      "              precision    recall  f1-score   support\n",
      "\n",
      "           0       0.95      0.98      0.97      1927\n",
      "           1       0.98      0.94      0.96      1642\n",
      "\n",
      "    accuracy                           0.96      3569\n",
      "   macro avg       0.96      0.96      0.96      3569\n",
      "weighted avg       0.96      0.96      0.96      3569\n",
      "\n"
     ]
    }
   ],
   "source": [
    "print(\"classifier score:\", gnb.score(X_test, Y_test))\n",
    "Y_pred = gnb.predict(X_test)\n",
    "print(\"\\naccuracy:\",metrics.accuracy_score(Y_test, Y_pred))\n",
    "print(\"\\nConfusion matrix:\")\n",
    "print(metrics.confusion_matrix(Y_test, Y_pred))\n",
    "print(\"\\nPrecision Score per class:\")\n",
    "print(metrics.precision_score(Y_test, Y_pred, average = None))\n",
    "print(\"\\nAverage Precision Score:\")\n",
    "print(metrics.precision_score(Y_test, Y_pred, average = 'weighted'))\n",
    "print(\"\\nRecall Score per class:\")\n",
    "print(metrics.recall_score(Y_test, Y_pred, average= None))\n",
    "print(\"\\nAverage Recall Score:\")\n",
    "print(metrics.recall_score(Y_test, Y_pred, average = 'weighted'))\n",
    "print(\"\\nF1-score Score per class:\")\n",
    "print(metrics.f1_score(Y_test, Y_pred, average = None))\n",
    "print(\"\\nAverage F1 Score:\")\n",
    "print(metrics.f1_score(Y_test, Y_pred, average = 'weighted'))\n",
    "\n",
    "report = metrics.classification_report(Y_test,Y_pred)\n",
    "print(report)"
   ]
  },
  {
   "cell_type": "code",
   "execution_count": 44,
   "metadata": {},
   "outputs": [
    {
     "name": "stdout",
     "output_type": "stream",
     "text": [
      "****Logistic Regression mean scores****\n",
      "scores: {'fit_time': array([2.18075132, 2.30030203, 2.24466872, 2.14507484, 2.04035211]), 'score_time': array([0.04765677, 0.04868722, 0.04739642, 0.04808712, 0.04802036]), 'test_accuracy': array([0.96813725, 0.97197898, 0.96882662, 0.96672504, 0.96882662]), 'test_average_precision': array([0.99414533, 0.99548947, 0.99406199, 0.99345015, 0.99433703]), 'test_recall_micro': array([0.96813725, 0.97197898, 0.96882662, 0.96672504, 0.96882662]), 'test_f1_micro': array([0.96813725, 0.97197898, 0.96882662, 0.96672504, 0.96882662])}\n",
      "\n",
      "mean score test accuracy: 0.9688989045705847\n",
      "\n",
      "mean score test precision weighted: 0.9942967924187471\n",
      "\n",
      "mean score test recall weighted: 0.9688989045705847\n",
      "\n",
      "mean score test f1 weighted: 0.9688989045705847\n"
     ]
    }
   ],
   "source": [
    "s = ['accuracy_weighted', 'precision_weighted', 'recall_weighted', 'f1_weighted']\n",
    "scores_ = model_selection.cross_validate(lr_m, X, Y, scoring = s, cv = 5)                                 \n",
    "print('****Logistic Regression mean scores****')\n",
    "print('scores:', scores_)\n",
    "print('\\nmean score test accuracy:', scores_['test_precision_weighted'].mean())\n",
    "print('\\nmean score test precision weighted:', scores_['test_precision_weighted'].mean())\n",
    "print('\\nmean score test recall weighted:', scores_['test_recall_weighted'].mean())\n",
    "print('\\nmean score test f1 weighted:', scores_['test_f1_weighted'].mean())"
   ]
  },
  {
   "cell_type": "code",
   "execution_count": 45,
   "metadata": {},
   "outputs": [],
   "source": [
    "#sorted(sklearn.metrics.SCORERS.keys())"
   ]
  },
  {
   "cell_type": "code",
   "execution_count": null,
   "metadata": {},
   "outputs": [],
   "source": []
  }
 ],
 "metadata": {
  "kernelspec": {
   "display_name": "Python 3",
   "language": "python",
   "name": "python3"
  },
  "language_info": {
   "codemirror_mode": {
    "name": "ipython",
    "version": 3
   },
   "file_extension": ".py",
   "mimetype": "text/x-python",
   "name": "python",
   "nbconvert_exporter": "python",
   "pygments_lexer": "ipython3",
   "version": "3.7.4"
  }
 },
 "nbformat": 4,
 "nbformat_minor": 2
}
