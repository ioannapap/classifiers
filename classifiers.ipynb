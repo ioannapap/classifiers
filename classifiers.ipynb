{
 "cells": [
  {
   "cell_type": "code",
   "execution_count": 1,
   "metadata": {},
   "outputs": [],
   "source": [
    "import numpy as np\n",
    "import pandas as pd\n",
    "from pandas import DataFrame\n",
    "import scipy as sp\n",
    "import string\n",
    "import json\n",
    "import re\n",
    "import sklearn.metrics as metrics\n",
    "from sklearn.feature_extraction.text import CountVectorizer\n",
    "import matplotlib.pyplot as  plt\n",
    "import seaborn as sns\n",
    "import sklearn\n",
    "from sklearn.metrics import accuracy_score\n",
    "####\n",
    "from sklearn.model_selection import train_test_split\n",
    "from sklearn import linear_model\n",
    "import statsmodels.api as sm\n",
    "\n",
    "from sklearn.linear_model import LogisticRegression\n",
    "import sklearn.linear_model as linear_model\n",
    "import sklearn.model_selection as model_selection\n",
    "\n",
    "from sklearn import svm\n",
    "from sklearn import tree\n",
    "from sklearn.neighbors import KNeighborsClassifier\n",
    "from sklearn.naive_bayes import BernoulliNB"
   ]
  },
  {
   "cell_type": "code",
   "execution_count": 2,
   "metadata": {},
   "outputs": [],
   "source": [
    "# open training dataset and parse recipes\n",
    "\n",
    "with open('train.json') as cooking_file:  \n",
    "    \n",
    "    data = json.load(cooking_file)\n",
    "    "
   ]
  },
  {
   "cell_type": "code",
   "execution_count": 3,
   "metadata": {},
   "outputs": [],
   "source": [
    "#removing punctuations and spaces before fixing the data and keep them all in a dict  (italian, mexican)\n",
    "\n",
    "punctuations = '''!()-[]{};:'\"\\,<>./?@#$%^&*_~'''\n",
    "\n",
    "def gather_recipes(recipes, cuisine_country):\n",
    "    \n",
    "    data_list = []\n",
    "    \n",
    "    for _object in recipes:\n",
    "        \n",
    "        if _object.get('cuisine') == cuisine_country:\n",
    "            \n",
    "            ingredients = _object.get('ingredients') \n",
    "            _id = _object.get('id')\n",
    "            \n",
    "            for i in ingredients:\n",
    "                \n",
    "                _dict = dict()\n",
    "                ingr = i.replace(' ', '').lower()\n",
    "                    \n",
    "                for ch in ingr: \n",
    "                    \n",
    "                    if ch in punctuations: \n",
    "                        \n",
    "                        ingr = ingr.replace(ch, '')  \n",
    "                \n",
    "                _dict['ingredients'] = ingr                \n",
    "                _dict['id'] = _id\n",
    "                data_list.append(_dict)\n",
    "                \n",
    "    return data_list\n",
    "\n",
    "clean_italian_cuisine_data = gather_recipes(data, 'italian')\n",
    "clean_mexican_cuisine_data = gather_recipes(data, 'mexican')"
   ]
  },
  {
   "cell_type": "code",
   "execution_count": 4,
   "metadata": {},
   "outputs": [],
   "source": [
    "#creating dfs  (italian, mexican)\n",
    "\n",
    "italian_df = DataFrame(clean_italian_cuisine_data)\n",
    "italian_ingredients = list(set(italian_df.ingredients))\n",
    "\n",
    "mexican_df = DataFrame(clean_mexican_cuisine_data)\n",
    "mexican_ingredients = list(set(mexican_df.ingredients))\n"
   ]
  },
  {
   "cell_type": "code",
   "execution_count": 5,
   "metadata": {},
   "outputs": [],
   "source": [
    "#fixing data for CountVectorizer (italian_df)\n",
    "\n",
    "it_unique_ids = []\n",
    "it_ingredients = []\n",
    "it_grouped = italian_df.groupby('id')\n",
    "\n",
    "for ids, ing in it_grouped:\n",
    "    \n",
    "    it_unique_ids.append(ids)\n",
    "    \n",
    "    row = str(ing)\n",
    "    row = row.replace('ingredients','')\n",
    "    row = row.replace('id', '')\n",
    "    row = row.replace('\\n', '')\n",
    "    row = re.sub('[0-9]+', '', row)\n",
    "    row = row.split( )\n",
    "    row = ' '.join(row)\n",
    "    \n",
    "    it_ingredients.append(row)\n",
    "    "
   ]
  },
  {
   "cell_type": "code",
   "execution_count": 6,
   "metadata": {},
   "outputs": [],
   "source": [
    "#fixing data for CountVectorizer (mexican_df)\n",
    "\n",
    "mex_unique_ids = []\n",
    "mex_ingredients = []\n",
    "mex_grouped = mexican_df.groupby('id')\n",
    "\n",
    "for ids, ing in mex_grouped:\n",
    "    \n",
    "    mex_unique_ids.append(ids)\n",
    "    \n",
    "    row = str(ing)\n",
    "    row = row.replace('ingredients','')\n",
    "    row = row.replace('id', '')\n",
    "    row = row.replace('\\n', '')\n",
    "    row = re.sub('[0-9]+', '', row)\n",
    "    row = row.split( )\n",
    "    row = ' '.join(row)\n",
    "    \n",
    "    mex_ingredients.append(row)\n",
    "    \n"
   ]
  },
  {
   "cell_type": "code",
   "execution_count": 7,
   "metadata": {},
   "outputs": [
    {
     "name": "stdout",
     "output_type": "stream",
     "text": [
      "       abbamele  accent  acinipepe  acornsquash  activedryyeast  adobosauce  \\\n",
      "4             0       0          0            0               0           0   \n",
      "14            0       0          0            0               0           0   \n",
      "20            0       0          0            0               0           0   \n",
      "56            0       0          0            0               0           0   \n",
      "62            0       0          0            0               0           0   \n",
      "...         ...     ...        ...          ...             ...         ...   \n",
      "49679         0       0          0            0               0           0   \n",
      "49681         0       0          0            0               0           0   \n",
      "49689         0       0          0            0               0           0   \n",
      "49697         0       0          0            0               0           0   \n",
      "49708         0       0          0            0               0           0   \n",
      "\n",
      "       adoboseasoning  agavenectar  agedbalsamicvinegar  agedgouda  ...  \\\n",
      "4                   0            0                    0          0  ...   \n",
      "14                  0            0                    0          0  ...   \n",
      "20                  0            0                    0          0  ...   \n",
      "56                  0            0                    0          0  ...   \n",
      "62                  0            0                    0          0  ...   \n",
      "...               ...          ...                  ...        ...  ...   \n",
      "49679               0            0                    0          0  ...   \n",
      "49681               0            0                    0          0  ...   \n",
      "49689               0            0                    0          0  ...   \n",
      "49697               0            0                    0          0  ...   \n",
      "49708               0            0                    0          0  ...   \n",
      "\n",
      "       yukongold  yukongoldpotatoes  zaatar  zest  zestyitaliandressing  \\\n",
      "4              0                  0       0     0                     0   \n",
      "14             0                  0       0     0                     0   \n",
      "20             0                  0       0     0                     0   \n",
      "56             0                  0       0     0                     0   \n",
      "62             0                  0       0     0                     0   \n",
      "...          ...                ...     ...   ...                   ...   \n",
      "49679          0                  0       0     0                     0   \n",
      "49681          0                  0       0     0                     0   \n",
      "49689          0                  0       0     0                     0   \n",
      "49697          0                  0       0     0                     0   \n",
      "49708          0                  0       0     0                     0   \n",
      "\n",
      "       zinfandel  ziti  zucchini  zucchiniblossoms  Cuisine  \n",
      "4              0     0         0                 0        0  \n",
      "14             0     0         0                 0        0  \n",
      "20             0     0         0                 0        0  \n",
      "56             0     0         0                 0        0  \n",
      "62             0     0         0                 0        0  \n",
      "...          ...   ...       ...               ...      ...  \n",
      "49679          0     0         0                 0        0  \n",
      "49681          0     0         0                 0        0  \n",
      "49689          0     0         0                 0        0  \n",
      "49697          0     0         0                 0        0  \n",
      "49708          0     0         0                 0        0  \n",
      "\n",
      "[7838 rows x 2925 columns]\n",
      "       achiote  achiotepaste  achiotepowder  acornsquash  activedryyeast  \\\n",
      "1            0             0              0            0               0   \n",
      "15           0             0              0            0               0   \n",
      "19           0             0              0            0               0   \n",
      "22           0             0              0            0               0   \n",
      "25           0             0              0            0               0   \n",
      "...        ...           ...            ...          ...             ...   \n",
      "49678        0             0              0            0               0   \n",
      "49687        0             0              0            0               0   \n",
      "49707        0             0              0            0               0   \n",
      "49709        0             0              0            0               0   \n",
      "49717        0             0              0            0               0   \n",
      "\n",
      "       adobo  adoboallpurposeseasoning  adobosauce  adoboseasoning  \\\n",
      "1          0                         0           0               0   \n",
      "15         0                         0           0               0   \n",
      "19         0                         0           0               0   \n",
      "22         0                         0           0               0   \n",
      "25         0                         0           0               0   \n",
      "...      ...                       ...         ...             ...   \n",
      "49678      0                         0           0               0   \n",
      "49687      0                         0           0               0   \n",
      "49707      0                         0           0               0   \n",
      "49709      0                         0           0               0   \n",
      "49717      0                         0           1               0   \n",
      "\n",
      "       agavenectar  ...  yolk  yuca  yukongold  yukongoldpotatoes  zaatar  \\\n",
      "1                0  ...     0     0          0                  0       0   \n",
      "15               0  ...     0     0          0                  0       0   \n",
      "19               0  ...     0     0          0                  0       0   \n",
      "22               0  ...     0     0          0                  0       0   \n",
      "25               0  ...     0     0          0                  0       0   \n",
      "...            ...  ...   ...   ...        ...                ...     ...   \n",
      "49678            0  ...     0     0          0                  0       0   \n",
      "49687            0  ...     0     0          0                  0       0   \n",
      "49707            0  ...     0     0          0                  0       0   \n",
      "49709            0  ...     0     0          0                  0       0   \n",
      "49717            0  ...     0     0          0                  0       0   \n",
      "\n",
      "       zest  zestyitaliandressing  zucchini  zucchiniblossoms  Cuisine  \n",
      "1         0                     0         0                 0        1  \n",
      "15        0                     0         0                 0        1  \n",
      "19        0                     0         0                 0        1  \n",
      "22        0                     0         0                 0        1  \n",
      "25        0                     0         0                 0        1  \n",
      "...     ...                   ...       ...               ...      ...  \n",
      "49678     0                     0         0                 0        1  \n",
      "49687     0                     0         0                 0        1  \n",
      "49707     0                     0         0                 0        1  \n",
      "49709     0                     0         0                 0        1  \n",
      "49717     0                     0         0                 0        1  \n",
      "\n",
      "[6438 rows x 2681 columns]\n"
     ]
    }
   ],
   "source": [
    "#using CountVectorizer  (italian, mexican) and adding one column Cuisine\n",
    "\n",
    "it_vectorizer = CountVectorizer(analyzer = 'word', binary = True)\n",
    "it_array = it_vectorizer.fit_transform(it_ingredients)\n",
    "it_array = it_array.toarray()\n",
    "\n",
    "it_df = DataFrame(it_array, columns = it_vectorizer.get_feature_names(), index = it_unique_ids)\n",
    "it_df['Cuisine'] = 0 #italian\n",
    "it_df.to_csv('it_cleandata.csv', index_label = 'ID')\n",
    "print(it_df)\n",
    "\n",
    "mex_vectorizer = CountVectorizer(analyzer = 'word', binary = True)\n",
    "mex_array = mex_vectorizer.fit_transform(mex_ingredients)\n",
    "mex_array = mex_array.toarray()\n",
    "\n",
    "mex_df = DataFrame(mex_array, columns = mex_vectorizer.get_feature_names(), index = mex_unique_ids)\n",
    "mex_df['Cuisine'] = 1 #mexican\n",
    "mex_df.to_csv('mex_cleandata.csv', index_label = 'ID')\n",
    "print(mex_df)"
   ]
  },
  {
   "cell_type": "code",
   "execution_count": 8,
   "metadata": {},
   "outputs": [],
   "source": [
    "#putting mexican and italian in one DataFrame\n",
    "\n",
    "df = pd.DataFrame(it_df)\n",
    "df = df.append(mex_df, sort = False)\n",
    "df.fillna(0, inplace = True)\n",
    "df = df.astype('int64')"
   ]
  },
  {
   "cell_type": "code",
   "execution_count": 9,
   "metadata": {},
   "outputs": [
    {
     "name": "stdout",
     "output_type": "stream",
     "text": [
      "(14276, 3976)\n"
     ]
    }
   ],
   "source": [
    "X = df.loc[:, df.columns != 'Cuisine'].values  #all columns with values except Cuisine column\n",
    "print(X.shape)\n",
    "\n",
    "Y = df['Cuisine'] #just the ids in a list"
   ]
  },
  {
   "cell_type": "code",
   "execution_count": 10,
   "metadata": {},
   "outputs": [],
   "source": [
    "#X_train, X_test, Y_train, Y_test = train_test_split(X, Y, test_size = 0.25, random_state = 0)"
   ]
  },
  {
   "cell_type": "code",
   "execution_count": 11,
   "metadata": {},
   "outputs": [],
   "source": [
    "# Multiple Logistic Regression \n",
    "\n",
    "lr_m = linear_model.LogisticRegression()\n",
    "#lr_m.fit(X, Y)"
   ]
  },
  {
   "cell_type": "code",
   "execution_count": 12,
   "metadata": {},
   "outputs": [
    {
     "data": {
      "text/plain": [
       "'\\nprint(\"classifier score:\",lr_m.score(X_test, Y_test))\\nY_pred = lr_m.predict(X_test)\\nprint(\"\\naccuracy:\",metrics.accuracy_score(Y_test, Y_pred))\\nprint(\"\\nConfusion matrix:\")\\nprint(metrics.confusion_matrix(Y_test, Y_pred))\\nprint(\"\\nPrecision Score per class:\")\\nprint(metrics.precision_score(Y_test, Y_pred, average = None))\\nprint(\"\\nAverage Precision Score:\")\\nprint(metrics.precision_score(Y_test, Y_pred, average = \\'weighted\\'))\\nprint(\"\\nRecall Score per class:\")\\nprint(metrics.recall_score(Y_test, Y_pred, average = None))\\nprint(\"\\nAverage Recall Score:\")\\nprint(metrics.recall_score(Y_test, Y_pred, average = \\'weighted\\'))\\nprint(\"\\nF1-score Score per class:\")\\nprint(metrics.f1_score(Y_test, Y_pred, average = None))\\nprint(\"\\nAverage F1 Score:\")\\nprint(metrics.f1_score(Y_test, Y_pred, average = \\'weighted\\'))\\n\\nreport = metrics.classification_report(Y_test,Y_pred)\\nprint(report)\\n'"
      ]
     },
     "execution_count": 12,
     "metadata": {},
     "output_type": "execute_result"
    }
   ],
   "source": [
    "'''\n",
    "print(\"classifier score:\",lr_m.score(X_test, Y_test))\n",
    "Y_pred = lr_m.predict(X_test)\n",
    "print(\"\\naccuracy:\",metrics.accuracy_score(Y_test, Y_pred))\n",
    "print(\"\\nConfusion matrix:\")\n",
    "print(metrics.confusion_matrix(Y_test, Y_pred))\n",
    "print(\"\\nPrecision Score per class:\")\n",
    "print(metrics.precision_score(Y_test, Y_pred, average = None))\n",
    "print(\"\\nAverage Precision Score:\")\n",
    "print(metrics.precision_score(Y_test, Y_pred, average = 'weighted'))\n",
    "print(\"\\nRecall Score per class:\")\n",
    "print(metrics.recall_score(Y_test, Y_pred, average = None))\n",
    "print(\"\\nAverage Recall Score:\")\n",
    "print(metrics.recall_score(Y_test, Y_pred, average = 'weighted'))\n",
    "print(\"\\nF1-score Score per class:\")\n",
    "print(metrics.f1_score(Y_test, Y_pred, average = None))\n",
    "print(\"\\nAverage F1 Score:\")\n",
    "print(metrics.f1_score(Y_test, Y_pred, average = 'weighted'))\n",
    "\n",
    "report = metrics.classification_report(Y_test,Y_pred)\n",
    "print(report)\n",
    "'''"
   ]
  },
  {
   "cell_type": "code",
   "execution_count": 13,
   "metadata": {},
   "outputs": [
    {
     "name": "stdout",
     "output_type": "stream",
     "text": [
      "scores: [0.96809087 0.97195581 0.96879183 0.96668815 0.96880957]\n",
      "mean scores: 0.9688672451742961\n"
     ]
    }
   ],
   "source": [
    "scores = model_selection.cross_val_score(lr_m, X, Y, scoring = 'f1_weighted', cv = 5)\n",
    "print('scores:', scores)\n",
    "print('mean scores:', scores.mean())"
   ]
  },
  {
   "cell_type": "code",
   "execution_count": 14,
   "metadata": {},
   "outputs": [],
   "source": [
    "# Support Vector Machines\n",
    "\n",
    "svm_m = svm.SVC()\n",
    "#svm_m.fit(X, Y)"
   ]
  },
  {
   "cell_type": "code",
   "execution_count": 15,
   "metadata": {},
   "outputs": [
    {
     "data": {
      "text/plain": [
       "'\\nprint(\"classifier score:\",svm_m.score(X_test, Y_test))\\nY_pred = svm_m.predict(X_test)\\nprint(\"\\naccuracy:\",metrics.accuracy_score(Y_test, Y_pred))\\nprint(\"\\nConfusion matrix:\")\\nprint(metrics.confusion_matrix(Y_test, Y_pred))\\nprint(\"\\nPrecision Score per class:\")\\nprint(metrics.precision_score(Y_test, Y_pred, average = None))\\nprint(\"\\nAverage Precision Score:\")\\nprint(metrics.precision_score(Y_test, Y_pred, average = \\'weighted\\'))\\nprint(\"\\nRecall Score per class:\")\\nprint(metrics.recall_score(Y_test, Y_pred, average= None))\\nprint(\"\\nAverage Recall Score:\")\\nprint(metrics.recall_score(Y_test, Y_pred, average = \\'weighted\\'))\\nprint(\"\\nF1-score Score per class:\")\\nprint(metrics.f1_score(Y_test, Y_pred, average = None))\\nprint(\"\\nAverage F1 Score:\")\\nprint(metrics.f1_score(Y_test, Y_pred, average = \\'weighted\\'))\\n\\nreport = metrics.classification_report(Y_test,Y_pred)\\nprint(report)\\n'"
      ]
     },
     "execution_count": 15,
     "metadata": {},
     "output_type": "execute_result"
    }
   ],
   "source": [
    "'''\n",
    "print(\"classifier score:\",svm_m.score(X_test, Y_test))\n",
    "Y_pred = svm_m.predict(X_test)\n",
    "print(\"\\naccuracy:\",metrics.accuracy_score(Y_test, Y_pred))\n",
    "print(\"\\nConfusion matrix:\")\n",
    "print(metrics.confusion_matrix(Y_test, Y_pred))\n",
    "print(\"\\nPrecision Score per class:\")\n",
    "print(metrics.precision_score(Y_test, Y_pred, average = None))\n",
    "print(\"\\nAverage Precision Score:\")\n",
    "print(metrics.precision_score(Y_test, Y_pred, average = 'weighted'))\n",
    "print(\"\\nRecall Score per class:\")\n",
    "print(metrics.recall_score(Y_test, Y_pred, average= None))\n",
    "print(\"\\nAverage Recall Score:\")\n",
    "print(metrics.recall_score(Y_test, Y_pred, average = 'weighted'))\n",
    "print(\"\\nF1-score Score per class:\")\n",
    "print(metrics.f1_score(Y_test, Y_pred, average = None))\n",
    "print(\"\\nAverage F1 Score:\")\n",
    "print(metrics.f1_score(Y_test, Y_pred, average = 'weighted'))\n",
    "\n",
    "report = metrics.classification_report(Y_test,Y_pred)\n",
    "print(report)\n",
    "'''"
   ]
  },
  {
   "cell_type": "code",
   "execution_count": 16,
   "metadata": {},
   "outputs": [],
   "source": [
    "#Decision Trees\n",
    "\n",
    "dtree = tree.DecisionTreeClassifier()\n",
    "#dtree.fit(X, Y)"
   ]
  },
  {
   "cell_type": "code",
   "execution_count": 17,
   "metadata": {},
   "outputs": [
    {
     "data": {
      "text/plain": [
       "'\\nprint(\"classifier score:\",dtree.score(X_test, Y_test))\\nY_pred = dtree.predict(X_test)\\nY_prob = dtree.predict_proba(X_test)\\nprint(\\'Y probability:\\', Y_prob)\\n\\nprint(\"classifier predictions:\", Y_pred)\\nprint(\"ground truth labels   :\", Y_test)\\n\\nprint(\"accuracy:\", metrics.accuracy_score(Y_test, Y_pred))\\nprint(\"\\nConfusion matrix:\")\\nprint(metrics.confusion_matrix(Y_test, Y_pred))\\nprint(\"\\nPrecision Score per class:\")\\nprint(metrics.precision_score(Y_test, Y_pred, average=None))\\nprint(\"\\nAverage Precision Score:\")\\nprint(metrics.precision_score(Y_test, Y_pred, average=\\'weighted\\'))\\nprint(\"\\nRecall Score per class:\")\\nprint(metrics.recall_score(Y_test, Y_pred, average=None))\\nprint(\"\\nAverage Recall Score:\")\\nprint(metrics.recall_score(Y_test, Y_pred, average=\\'weighted\\'))\\nprint(\"\\nF1-score Score per class:\")\\nprint(metrics.f1_score(Y_test, Y_pred, average=None))\\nprint(\"\\nAverage F1 Score:\")\\nprint(metrics.f1_score(Y_test, Y_pred, average=\\'weighted\\'))\\n\\nreport = metrics.classification_report(Y_test,Y_pred)\\nprint(report)\\n'"
      ]
     },
     "execution_count": 17,
     "metadata": {},
     "output_type": "execute_result"
    }
   ],
   "source": [
    "'''\n",
    "print(\"classifier score:\",dtree.score(X_test, Y_test))\n",
    "Y_pred = dtree.predict(X_test)\n",
    "Y_prob = dtree.predict_proba(X_test)\n",
    "print('Y probability:', Y_prob)\n",
    "\n",
    "print(\"classifier predictions:\", Y_pred)\n",
    "print(\"ground truth labels   :\", Y_test)\n",
    "\n",
    "print(\"accuracy:\", metrics.accuracy_score(Y_test, Y_pred))\n",
    "print(\"\\nConfusion matrix:\")\n",
    "print(metrics.confusion_matrix(Y_test, Y_pred))\n",
    "print(\"\\nPrecision Score per class:\")\n",
    "print(metrics.precision_score(Y_test, Y_pred, average=None))\n",
    "print(\"\\nAverage Precision Score:\")\n",
    "print(metrics.precision_score(Y_test, Y_pred, average='weighted'))\n",
    "print(\"\\nRecall Score per class:\")\n",
    "print(metrics.recall_score(Y_test, Y_pred, average=None))\n",
    "print(\"\\nAverage Recall Score:\")\n",
    "print(metrics.recall_score(Y_test, Y_pred, average='weighted'))\n",
    "print(\"\\nF1-score Score per class:\")\n",
    "print(metrics.f1_score(Y_test, Y_pred, average=None))\n",
    "print(\"\\nAverage F1 Score:\")\n",
    "print(metrics.f1_score(Y_test, Y_pred, average='weighted'))\n",
    "\n",
    "report = metrics.classification_report(Y_test,Y_pred)\n",
    "print(report)\n",
    "'''"
   ]
  },
  {
   "cell_type": "code",
   "execution_count": 18,
   "metadata": {},
   "outputs": [],
   "source": [
    "#k-NN\n",
    "\n",
    "knn = KNeighborsClassifier(n_neighbors = 3)\n",
    "#knn.fit(X,Y)"
   ]
  },
  {
   "cell_type": "code",
   "execution_count": 19,
   "metadata": {},
   "outputs": [
    {
     "data": {
      "text/plain": [
       "'\\nprint(\"classifier score:\", knn.score(X_test, Y_test))\\nY_pred = knn.predict(X_test)\\nprint(\"\\naccuracy:\",metrics.accuracy_score(Y_test, Y_pred))\\nprint(\"\\nConfusion matrix:\")\\nprint(metrics.confusion_matrix(Y_test, Y_pred))\\nprint(\"\\nPrecision Score per class:\")\\nprint(metrics.precision_score(Y_test, Y_pred, average = None))\\nprint(\"\\nAverage Precision Score:\")\\nprint(metrics.precision_score(Y_test, Y_pred, average = \\'weighted\\'))\\nprint(\"\\nRecall Score per class:\")\\nprint(metrics.recall_score(Y_test, Y_pred, average = None))\\nprint(\"\\nAverage Recall Score:\")\\nprint(metrics.recall_score(Y_test, Y_pred, average = \\'weighted\\'))\\nprint(\"\\nF1-score Score per class:\")\\nprint(metrics.f1_score(Y_test, Y_pred, average = None))\\nprint(\"\\nAverage F1 Score:\")\\nprint(metrics.f1_score(Y_test, Y_pred, average = \\'weighted\\'))\\n\\nreport = metrics.classification_report(Y_test,Y_pred)\\nprint(\\'Report:\\', report)\\n'"
      ]
     },
     "execution_count": 19,
     "metadata": {},
     "output_type": "execute_result"
    }
   ],
   "source": [
    "'''\n",
    "print(\"classifier score:\", knn.score(X_test, Y_test))\n",
    "Y_pred = knn.predict(X_test)\n",
    "print(\"\\naccuracy:\",metrics.accuracy_score(Y_test, Y_pred))\n",
    "print(\"\\nConfusion matrix:\")\n",
    "print(metrics.confusion_matrix(Y_test, Y_pred))\n",
    "print(\"\\nPrecision Score per class:\")\n",
    "print(metrics.precision_score(Y_test, Y_pred, average = None))\n",
    "print(\"\\nAverage Precision Score:\")\n",
    "print(metrics.precision_score(Y_test, Y_pred, average = 'weighted'))\n",
    "print(\"\\nRecall Score per class:\")\n",
    "print(metrics.recall_score(Y_test, Y_pred, average = None))\n",
    "print(\"\\nAverage Recall Score:\")\n",
    "print(metrics.recall_score(Y_test, Y_pred, average = 'weighted'))\n",
    "print(\"\\nF1-score Score per class:\")\n",
    "print(metrics.f1_score(Y_test, Y_pred, average = None))\n",
    "print(\"\\nAverage F1 Score:\")\n",
    "print(metrics.f1_score(Y_test, Y_pred, average = 'weighted'))\n",
    "\n",
    "report = metrics.classification_report(Y_test,Y_pred)\n",
    "print('Report:', report)\n",
    "'''"
   ]
  },
  {
   "cell_type": "code",
   "execution_count": 20,
   "metadata": {},
   "outputs": [],
   "source": [
    "# Naive Bayes\n",
    "\n",
    "gnb = BernoulliNB(binarize = None)\n",
    "#gnb.fit(X, Y)"
   ]
  },
  {
   "cell_type": "code",
   "execution_count": 21,
   "metadata": {},
   "outputs": [
    {
     "data": {
      "text/plain": [
       "'\\nprint(\"classifier score:\", gnb.score(X_test, Y_test))\\nY_pred = gnb.predict(X_test)\\nprint(\"\\naccuracy:\",metrics.accuracy_score(Y_test, Y_pred))\\nprint(\"\\nConfusion matrix:\")\\nprint(metrics.confusion_matrix(Y_test, Y_pred))\\nprint(\"\\nPrecision Score per class:\")\\nprint(metrics.precision_score(Y_test, Y_pred, average = None))\\nprint(\"\\nAverage Precision Score:\")\\nprint(metrics.precision_score(Y_test, Y_pred, average = \\'weighted\\'))\\nprint(\"\\nRecall Score per class:\")\\nprint(metrics.recall_score(Y_test, Y_pred, average= None))\\nprint(\"\\nAverage Recall Score:\")\\nprint(metrics.recall_score(Y_test, Y_pred, average = \\'weighted\\'))\\nprint(\"\\nF1-score Score per class:\")\\nprint(metrics.f1_score(Y_test, Y_pred, average = None))\\nprint(\"\\nAverage F1 Score:\")\\nprint(metrics.f1_score(Y_test, Y_pred, average = \\'weighted\\'))\\n\\nreport = metrics.classification_report(Y_test,Y_pred)\\nprint(report)\\n'"
      ]
     },
     "execution_count": 21,
     "metadata": {},
     "output_type": "execute_result"
    }
   ],
   "source": [
    "'''\n",
    "print(\"classifier score:\", gnb.score(X_test, Y_test))\n",
    "Y_pred = gnb.predict(X_test)\n",
    "print(\"\\naccuracy:\",metrics.accuracy_score(Y_test, Y_pred))\n",
    "print(\"\\nConfusion matrix:\")\n",
    "print(metrics.confusion_matrix(Y_test, Y_pred))\n",
    "print(\"\\nPrecision Score per class:\")\n",
    "print(metrics.precision_score(Y_test, Y_pred, average = None))\n",
    "print(\"\\nAverage Precision Score:\")\n",
    "print(metrics.precision_score(Y_test, Y_pred, average = 'weighted'))\n",
    "print(\"\\nRecall Score per class:\")\n",
    "print(metrics.recall_score(Y_test, Y_pred, average= None))\n",
    "print(\"\\nAverage Recall Score:\")\n",
    "print(metrics.recall_score(Y_test, Y_pred, average = 'weighted'))\n",
    "print(\"\\nF1-score Score per class:\")\n",
    "print(metrics.f1_score(Y_test, Y_pred, average = None))\n",
    "print(\"\\nAverage F1 Score:\")\n",
    "print(metrics.f1_score(Y_test, Y_pred, average = 'weighted'))\n",
    "\n",
    "report = metrics.classification_report(Y_test,Y_pred)\n",
    "print(report)\n",
    "'''"
   ]
  },
  {
   "cell_type": "code",
   "execution_count": 23,
   "metadata": {},
   "outputs": [
    {
     "name": "stdout",
     "output_type": "stream",
     "text": [
      "****Logistic Regression mean scores****\n",
      "scores: {'fit_time': array([2.37456536, 2.2973938 , 2.26086092, 2.15168166, 2.19990587]), 'score_time': array([0.02655697, 0.0269928 , 0.02665615, 0.02711749, 0.02799129]), 'test_accuracy': array([0.96813725, 0.97197898, 0.96882662, 0.96672504, 0.96882662]), 'test_precision_weighted': array([0.96837424, 0.9720495 , 0.96895965, 0.96685339, 0.96884661]), 'test_recall_weighted': array([0.96813725, 0.97197898, 0.96882662, 0.96672504, 0.96882662]), 'test_f1_weighted': array([0.96809087, 0.97195581, 0.96879183, 0.96668815, 0.96880957])}\n",
      "\n",
      "mean score test accuracy: 0.9688989045705847\n",
      "\n",
      "mean score test precision weighted: 0.9690166784300608\n",
      "\n",
      "mean score test recall weighted: 0.9688989045705847\n",
      "\n",
      "mean score test f1-measure weighted: 0.9688672451742961\n"
     ]
    }
   ],
   "source": [
    "s = ['accuracy', 'precision_weighted', 'recall_weighted', 'f1_weighted']\n",
    "scores_ = model_selection.cross_validate(lr_m, X, Y, scoring = s, cv = 5)                                 \n",
    "print('****Logistic Regression mean scores****')\n",
    "print('scores:', scores_)\n",
    "print('\\nmean score test accuracy:', scores_['test_accuracy'].mean())\n",
    "print('\\nmean score test precision weighted:', scores_['test_precision_weighted'].mean())\n",
    "print('\\nmean score test recall weighted:', scores_['test_recall_weighted'].mean())\n",
    "print('\\nmean score test f1-measure weighted:', scores_['test_f1_weighted'].mean())\n",
    "\n",
    "\n",
    "y_pred = cross_val_predict(lr_m, X, Y, cv = 5)\n",
    "conf_matrix = confusion_matrix(Y, y_pred)\n",
    "print(conf_matrix)\n",
    "#Y_pred = lr_m.predict(X_test)"
   ]
  },
  {
   "cell_type": "code",
   "execution_count": null,
   "metadata": {},
   "outputs": [],
   "source": [
    "#sorted(sklearn.metrics.SCORERS.keys())"
   ]
  },
  {
   "cell_type": "code",
   "execution_count": null,
   "metadata": {},
   "outputs": [],
   "source": [
    "scores_ = model_selection.cross_validate(svm_m, X, Y, scoring = s, cv = 5)                                 \n",
    "print('****SVM mean scores****')\n",
    "print('scores:', scores_)\n",
    "print('\\nmean score test accuracy:', scores_['test_accuracy'].mean())\n",
    "print('\\nmean score test precision weighted:', scores_['test_precision_weighted'].mean())\n",
    "print('\\nmean score test recall weighted:', scores_['test_recall_weighted'].mean())\n",
    "print('\\nmean score test f1-measure weighted:', scores_['test_f1_weighted'].mean())"
   ]
  },
  {
   "cell_type": "code",
   "execution_count": null,
   "metadata": {},
   "outputs": [],
   "source": [
    "scores_ = model_selection.cross_validate(dtree, X, Y, scoring = s, cv = 5)                                 \n",
    "print('****d-tree mean scores****')\n",
    "print('scores:', scores_)\n",
    "print('\\nmean score test accuracy:', scores_['test_accuracy'].mean())\n",
    "print('\\nmean score test precision weighted:', scores_['test_precision_weighted'].mean())\n",
    "print('\\nmean score test recall weighted:', scores_['test_recall_weighted'].mean())\n",
    "print('\\nmean score test f1-measure weighted:', scores_['test_f1_weighted'].mean())"
   ]
  },
  {
   "cell_type": "code",
   "execution_count": null,
   "metadata": {},
   "outputs": [],
   "source": [
    "scores_ = model_selection.cross_validate(knn, X, Y, scoring = s, cv = 5)                                 \n",
    "print('****k-NN mean scores****')\n",
    "print('scores:', scores_)\n",
    "print('\\nmean score test accuracy:', scores_['test_accuracy'].mean())\n",
    "print('\\nmean score test precision weighted:', scores_['test_precision_weighted'].mean())\n",
    "print('\\nmean score test recall weighted:', scores_['test_recall_weighted'].mean())\n",
    "print('\\nmean score test f1-measure weighted:', scores_['test_f1_weighted'].mean())"
   ]
  },
  {
   "cell_type": "code",
   "execution_count": null,
   "metadata": {},
   "outputs": [],
   "source": [
    "scores_ = model_selection.cross_validate(gnb, X, Y, scoring = s, cv = 5)                                 \n",
    "print('****Naive-Bayes mean scores****')\n",
    "print('scores:', scores_)\n",
    "print('\\nmean score test accuracy:', scores_['test_accuracy'].mean())\n",
    "print('\\nmean score test precision weighted:', scores_['test_precision_weighted'].mean())\n",
    "print('\\nmean score test recall weighted:', scores_['test_recall_weighted'].mean())\n",
    "print('\\nmean score test f1-measure weighted:', scores_['test_f1_weighted'].mean())"
   ]
  },
  {
   "cell_type": "code",
   "execution_count": null,
   "metadata": {},
   "outputs": [],
   "source": []
  }
 ],
 "metadata": {
  "kernelspec": {
   "display_name": "Python 3",
   "language": "python",
   "name": "python3"
  },
  "language_info": {
   "codemirror_mode": {
    "name": "ipython",
    "version": 3
   },
   "file_extension": ".py",
   "mimetype": "text/x-python",
   "name": "python",
   "nbconvert_exporter": "python",
   "pygments_lexer": "ipython3",
   "version": "3.7.4"
  }
 },
 "nbformat": 4,
 "nbformat_minor": 2
}
